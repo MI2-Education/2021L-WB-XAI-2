{
 "cells": [
  {
   "cell_type": "code",
   "execution_count": 1,
   "id": "43566018",
   "metadata": {},
   "outputs": [],
   "source": [
    "data(titanic_imputed, package = \"DALEX\")\n",
    "\n",
    "model <- ranger::ranger(survived~., data = titanic_imputed, classification = TRUE, probability = TRUE)"
   ]
  },
  {
   "cell_type": "code",
   "execution_count": 9,
   "id": "4fb216be",
   "metadata": {},
   "outputs": [
    {
     "name": "stdout",
     "output_type": "stream",
     "text": [
      "Preparation of a new explainer is initiated\n",
      "  -> model label       :  ranger  ( \u001b[33m default \u001b[39m )\n",
      "  -> data              :  2207  rows  7  cols \n",
      "  -> target variable   :  2207  values \n",
      "  -> predict function  :  yhat.ranger  will be used ( \u001b[33m default \u001b[39m )\n",
      "  -> predicted values  :  No value for predict function target column. ( \u001b[33m default \u001b[39m )\n",
      "  -> model_info        :  package ranger , ver. 0.12.1 , task classification ( \u001b[33m default \u001b[39m ) \n",
      "  -> predicted values  :  numerical, min =  0.010875 , mean =  0.3220075 , max =  0.9927106  \n",
      "  -> residual function :  difference between y and yhat ( \u001b[33m default \u001b[39m )\n",
      "  -> residuals         :  numerical, min =  -0.7842182 , mean =  0.0001492315 , max =  0.8826551  \n",
      " \u001b[32m A new explainer has been created! \u001b[39m \n"
     ]
    }
   ],
   "source": [
    "library(DALEX)\n",
    "library(DALEXtra)\n",
    "explainer <- DALEX::explain(model = model,\n",
    "                     data = titanic_imputed[,-8],\n",
    "                     y = titanic_imputed$survived)"
   ]
  },
  {
   "cell_type": "code",
   "execution_count": 10,
   "id": "07bb041d",
   "metadata": {},
   "outputs": [],
   "source": [
    "aspects_titanic <-\n",
    "  list(\n",
    "    wealth = c(\"class\", \"fare\"),\n",
    "    family = c(\"sibsp\", \"parch\"),\n",
    "    personal = c(\"age\", \"gender\"),\n",
    "    embarked = \"embarked\"\n",
    "  )"
   ]
  },
  {
   "cell_type": "code",
   "execution_count": 11,
   "id": "fccebf30",
   "metadata": {},
   "outputs": [],
   "source": [
    "library(\"triplot\")\n",
    "\n",
    "ai_titanic <- predict_aspects(x = explainer, \n",
    "                              new_observation = titanic_imputed[11,-8],\n",
    "                              variable_groups = aspects_titanic)"
   ]
  },
  {
   "cell_type": "code",
   "execution_count": 14,
   "id": "8e4568bd",
   "metadata": {},
   "outputs": [
    {
     "data": {
      "text/html": [
       "<table>\n",
       "<thead><tr><th></th><th scope=col>gender</th><th scope=col>age</th><th scope=col>class</th><th scope=col>embarked</th><th scope=col>fare</th><th scope=col>sibsp</th><th scope=col>parch</th></tr></thead>\n",
       "<tbody>\n",
       "\t<tr><th scope=row>11</th><td>male       </td><td>30         </td><td>3rd        </td><td>Southampton</td><td>7.05       </td><td>0          </td><td>0          </td></tr>\n",
       "</tbody>\n",
       "</table>\n"
      ],
      "text/latex": [
       "\\begin{tabular}{r|lllllll}\n",
       "  & gender & age & class & embarked & fare & sibsp & parch\\\\\n",
       "\\hline\n",
       "\t11 & male        & 30          & 3rd         & Southampton & 7.05        & 0           & 0          \\\\\n",
       "\\end{tabular}\n"
      ],
      "text/markdown": [
       "\n",
       "| <!--/--> | gender | age | class | embarked | fare | sibsp | parch |\n",
       "|---|---|---|---|---|---|---|---|\n",
       "| 11 | male        | 30          | 3rd         | Southampton | 7.05        | 0           | 0           |\n",
       "\n"
      ],
      "text/plain": [
       "   gender age class embarked    fare sibsp parch\n",
       "11 male   30  3rd   Southampton 7.05 0     0    "
      ]
     },
     "metadata": {},
     "output_type": "display_data"
    }
   ],
   "source": [
    "titanic_imputed[11,-8]"
   ]
  },
  {
   "cell_type": "code",
   "execution_count": 13,
   "id": "9809ee63",
   "metadata": {},
   "outputs": [
    {
     "data": {
      "image/png": "[encoded data removed]",
      "text/plain": [
       "plot without title"
      ]
     },
     "metadata": {},
     "output_type": "display_data"
    }
   ],
   "source": [
    "plot(ai_titanic)"
   ]
  },
  {
   "cell_type": "code",
   "execution_count": 17,
   "id": "f4fcb01e",
   "metadata": {},
   "outputs": [],
   "source": [
    "apartments_num <- apartments[,unlist(lapply(apartments, is.numeric))]\n",
    "\n",
    "model_apartments <- lm(m2.price ~ ., data = apartments_num)"
   ]
  },
  {
   "cell_type": "code",
   "execution_count": 18,
   "id": "95bbf28d",
   "metadata": {},
   "outputs": [],
   "source": [
    "explainer_apartments <- DALEX::explain(model = model_apartments, \n",
    "                              data = apartments_num[, -1],\n",
    "                              y = apartments_num$m2.price,\n",
    "                              verbose = FALSE)"
   ]
  },
  {
   "cell_type": "code",
   "execution_count": 26,
   "id": "8012da5c",
   "metadata": {},
   "outputs": [
    {
     "ename": "ERROR",
     "evalue": "Error in expansion(add = expansion_parameter): nie udało się znaleźć funkcji 'expansion'\n",
     "output_type": "error",
     "traceback": [
      "Error in expansion(add = expansion_parameter): nie udało się znaleźć funkcji 'expansion'\nTraceback:\n",
      "1. plot(tri_apartments)",
      "2. plot.triplot(tri_apartments)",
      "3. scale_x_discrete(expand = expansion(add = expansion_parameter))",
      "4. discrete_scale(c(\"x\", \"xmin\", \"xmax\", \"xend\"), \"position_d\", \n .     identity, ..., expand = expand, guide = \"none\", position = position, \n .     super = ScaleDiscretePosition)",
      "5. ggproto(NULL, super, call = match.call(), aesthetics = aesthetics, \n .     scale_name = scale_name, palette = palette, range = discrete_range(), \n .     limits = limits, na.value = na.value, na.translate = na.translate, \n .     expand = expand, name = name, breaks = breaks, labels = labels, \n .     drop = drop, guide = guide, position = position)"
     ]
    }
   ],
   "source": [
    "tri_apartments <- model_triplot(explain_apartments)\n",
    "\n",
    "plot(tri_apartments)"
   ]
  }
 ],
 "metadata": {
  "kernelspec": {
   "display_name": "R",
   "language": "R",
   "name": "ir"
  },
  "language_info": {
   "codemirror_mode": "r",
   "file_extension": ".r",
   "mimetype": "text/x-r-source",
   "name": "R",
   "pygments_lexer": "r",
   "version": "3.6.1"
  }
 },
 "nbformat": 4,
 "nbformat_minor": 5
}
