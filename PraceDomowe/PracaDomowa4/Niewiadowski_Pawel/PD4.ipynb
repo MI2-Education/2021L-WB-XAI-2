{
 "cells": [
  {
   "cell_type": "markdown",
   "metadata": {},
   "source": [
    "Praca domowa 4 (8 pkt.)\n",
    "Termin: 29.04.2021 15:00\n",
    "\n",
    "Dla wybranego modelu przygotuj knitr/jupyter notebook w formacie html lub pdf rozwiązując poniższe punkty. Pracę domową należy zgłosić przez Pull Request na GitHub w folderze PraceDomowe/PracaDomowa4/Nazwisko_Imię.\n",
    "\n",
    "    Wylicz permutacyjną ważność zmiennych dla wybranego modelu.\n",
    "    Porównaj ważność zmiennych z punktu (1) z wynikami tej metody zastosowanej dla modeli innych klas na tym samym ziorze danych (np. las losowy oraz xgboost).\n",
    "    Skomentuj poszczególne wyniki uzyskane w powyższych punktach.\n",
    "    W pracy domowej oceniane przede wszystkim będą wnioski z otrzymanych analiz. Kod potrzebny do reprudokowalności wyników również proszę załączyć.\n",
    "\n",
    "Prace domowe należy zgłaszać przez Pull Request o tytule Nazwisko Imię PD4. Wszystkie pliki związane z pracą domową proszę o umieszczenie w folderze Nazwisko_Imię."
   ]
  },
  {
   "cell_type": "code",
   "execution_count": 1,
   "metadata": {},
   "outputs": [],
   "source": [
    "suppressWarnings(suppressMessages(library(OpenML)))\n",
    "suppressWarnings(suppressMessages(library(mlr)))\n",
    "suppressWarnings(suppressMessages(library(pROC)))\n",
    "suppressWarnings(suppressMessages(library(plyr)))\n",
    "suppressWarnings(suppressMessages(library(DALEX)))\n",
    "suppressWarnings(suppressMessages(library(DALEXtra)))\n",
    "\n",
    "set.seed(9)"
   ]
  },
  {
   "cell_type": "code",
   "execution_count": 2,
   "metadata": {},
   "outputs": [
    {
     "data": {
      "text/html": [
       "<table>\n",
       "<caption>A data.frame: 6 × 9</caption>\n",
       "<thead>\n",
       "\t<tr><th></th><th scope=col>preg</th><th scope=col>plas</th><th scope=col>pres</th><th scope=col>skin</th><th scope=col>insu</th><th scope=col>mass</th><th scope=col>pedi</th><th scope=col>age</th><th scope=col>class</th></tr>\n",
       "\t<tr><th></th><th scope=col>&lt;int&gt;</th><th scope=col>&lt;int&gt;</th><th scope=col>&lt;int&gt;</th><th scope=col>&lt;int&gt;</th><th scope=col>&lt;int&gt;</th><th scope=col>&lt;dbl&gt;</th><th scope=col>&lt;dbl&gt;</th><th scope=col>&lt;int&gt;</th><th scope=col>&lt;chr&gt;</th></tr>\n",
       "</thead>\n",
       "<tbody>\n",
       "\t<tr><th scope=row>1</th><td>6</td><td>148</td><td>72</td><td>35</td><td>  0</td><td>33.6</td><td>0.627</td><td>50</td><td>1</td></tr>\n",
       "\t<tr><th scope=row>2</th><td>1</td><td> 85</td><td>66</td><td>29</td><td>  0</td><td>26.6</td><td>0.351</td><td>31</td><td>0</td></tr>\n",
       "\t<tr><th scope=row>3</th><td>8</td><td>183</td><td>64</td><td> 0</td><td>  0</td><td>23.3</td><td>0.672</td><td>32</td><td>1</td></tr>\n",
       "\t<tr><th scope=row>4</th><td>1</td><td> 89</td><td>66</td><td>23</td><td> 94</td><td>28.1</td><td>0.167</td><td>21</td><td>0</td></tr>\n",
       "\t<tr><th scope=row>5</th><td>0</td><td>137</td><td>40</td><td>35</td><td>168</td><td>43.1</td><td>2.288</td><td>33</td><td>1</td></tr>\n",
       "\t<tr><th scope=row>6</th><td>5</td><td>116</td><td>74</td><td> 0</td><td>  0</td><td>25.6</td><td>0.201</td><td>30</td><td>0</td></tr>\n",
       "</tbody>\n",
       "</table>\n"
      ],
      "text/latex": [
       "A data.frame: 6 × 9\n",
       "\\begin{tabular}{r|lllllllll}\n",
       "  & preg & plas & pres & skin & insu & mass & pedi & age & class\\\\\n",
       "  & <int> & <int> & <int> & <int> & <int> & <dbl> & <dbl> & <int> & <chr>\\\\\n",
       "\\hline\n",
       "\t1 & 6 & 148 & 72 & 35 &   0 & 33.6 & 0.627 & 50 & 1\\\\\n",
       "\t2 & 1 &  85 & 66 & 29 &   0 & 26.6 & 0.351 & 31 & 0\\\\\n",
       "\t3 & 8 & 183 & 64 &  0 &   0 & 23.3 & 0.672 & 32 & 1\\\\\n",
       "\t4 & 1 &  89 & 66 & 23 &  94 & 28.1 & 0.167 & 21 & 0\\\\\n",
       "\t5 & 0 & 137 & 40 & 35 & 168 & 43.1 & 2.288 & 33 & 1\\\\\n",
       "\t6 & 5 & 116 & 74 &  0 &   0 & 25.6 & 0.201 & 30 & 0\\\\\n",
       "\\end{tabular}\n"
      ],
      "text/markdown": [
       "\n",
       "A data.frame: 6 × 9\n",
       "\n",
       "| <!--/--> | preg &lt;int&gt; | plas &lt;int&gt; | pres &lt;int&gt; | skin &lt;int&gt; | insu &lt;int&gt; | mass &lt;dbl&gt; | pedi &lt;dbl&gt; | age &lt;int&gt; | class &lt;chr&gt; |\n",
       "|---|---|---|---|---|---|---|---|---|---|\n",
       "| 1 | 6 | 148 | 72 | 35 |   0 | 33.6 | 0.627 | 50 | 1 |\n",
       "| 2 | 1 |  85 | 66 | 29 |   0 | 26.6 | 0.351 | 31 | 0 |\n",
       "| 3 | 8 | 183 | 64 |  0 |   0 | 23.3 | 0.672 | 32 | 1 |\n",
       "| 4 | 1 |  89 | 66 | 23 |  94 | 28.1 | 0.167 | 21 | 0 |\n",
       "| 5 | 0 | 137 | 40 | 35 | 168 | 43.1 | 2.288 | 33 | 1 |\n",
       "| 6 | 5 | 116 | 74 |  0 |   0 | 25.6 | 0.201 | 30 | 0 |\n",
       "\n"
      ],
      "text/plain": [
       "  preg plas pres skin insu mass pedi  age class\n",
       "1 6    148  72   35     0  33.6 0.627 50  1    \n",
       "2 1     85  66   29     0  26.6 0.351 31  0    \n",
       "3 8    183  64    0     0  23.3 0.672 32  1    \n",
       "4 1     89  66   23    94  28.1 0.167 21  0    \n",
       "5 0    137  40   35   168  43.1 2.288 33  1    \n",
       "6 5    116  74    0     0  25.6 0.201 30  0    "
      ]
     },
     "metadata": {},
     "output_type": "display_data"
    }
   ],
   "source": [
    "def <- read.csv(\"diabetes.csv\")\n",
    "\n",
    "def$class[def$class == \"tested_positive\"] <- 1\n",
    "def$class[def$class == \"tested_negative\"] <- 0\n",
    "head(def)"
   ]
  },
  {
   "cell_type": "code",
   "execution_count": 3,
   "metadata": {},
   "outputs": [],
   "source": [
    "m <- sample(1:nrow(def), 0.7*nrow(def))\n",
    "train <- def[m,]\n",
    "test <- def[-m,]"
   ]
  },
  {
   "cell_type": "code",
   "execution_count": 4,
   "metadata": {},
   "outputs": [],
   "source": [
    "classif_task <- makeClassifTask(data = train, target = \"class\")\n",
    "\n",
    "classif_lrn_ranger <- makeLearner(\"classif.ranger\", predict.type = \"prob\")"
   ]
  },
  {
   "cell_type": "code",
   "execution_count": 5,
   "metadata": {},
   "outputs": [],
   "source": [
    "model_ranger <- train(classif_lrn_ranger, classif_task)"
   ]
  },
  {
   "cell_type": "code",
   "execution_count": 6,
   "metadata": {},
   "outputs": [
    {
     "name": "stdout",
     "output_type": "stream",
     "text": [
      "Preparation of a new explainer is initiated\n",
      "  -> model label       :  WrappedModel  ( \u001b[33m default \u001b[39m )\n",
      "  -> data              :  768  rows  8  cols \n",
      "  -> target variable   :  768  values \n",
      "  -> predict function  :  yhat.WrappedModel  will be used ( \u001b[33m default \u001b[39m )\n",
      "  -> predicted values  :  numerical, min =  0 , mean =  0.339206 , max =  0.9468325  \n",
      "  -> model_info        :  package mlr , ver. 2.19.0 , task classification ( \u001b[33m default \u001b[39m ) \n",
      "  -> residual function :  difference between y and yhat ( \u001b[33m default \u001b[39m )\n",
      "  -> residuals         :  numerical, min =  -0.7736183 , mean =  0.009752284 , max =  0.970854  \n",
      " \u001b[32m A new explainer has been created! \u001b[39m \n"
     ]
    }
   ],
   "source": [
    "explainer <- explain(model = model_ranger,\n",
    "                     data = def[,-9],\n",
    "                     y = as.numeric(as.character(def$class)))"
   ]
  },
  {
   "cell_type": "code",
   "execution_count": 7,
   "metadata": {},
   "outputs": [
    {
     "data": {
      "text/plain": [
       "Measures for:  classification\n",
       "recall     : 0.8171642 \n",
       "precision  : 0.9240506 \n",
       "f1         : 0.8673267 \n",
       "accuracy   : 0.9127604 \n",
       "auc        : 0.9559627\n",
       "\n",
       "Residuals:\n",
       "         0%         10%         20%         30%         40%         50% \n",
       "-0.77361825 -0.33783316 -0.22464175 -0.14737984 -0.08940767 -0.04449414 \n",
       "        60%         70%         80%         90%        100% \n",
       "-0.01034683  0.15091294  0.29678762  0.41907897  0.97085397 "
      ]
     },
     "metadata": {},
     "output_type": "display_data"
    }
   ],
   "source": [
    "model_performance(explainer)"
   ]
  },
  {
   "cell_type": "code",
   "execution_count": 8,
   "metadata": {},
   "outputs": [],
   "source": [
    "fi <- model_parts(explainer, B = 10)"
   ]
  },
  {
   "cell_type": "code",
   "execution_count": 9,
   "metadata": {},
   "outputs": [
    {
     "data": {
      "image/png": "[encoded data removed]",
      "text/plain": [
       "plot without title"
      ]
     },
     "metadata": {
      "image/png": {
       "height": 420,
       "width": 420
      }
     },
     "output_type": "display_data"
    }
   ],
   "source": [
    "plot(fi)"
   ]
  },
  {
   "cell_type": "markdown",
   "metadata": {},
   "source": [
    "# Według model_parts najważniejszą zmienną dla rangera jest plas ponieważ po przelosowaniu jej wartości AUC zmalało najbardziej"
   ]
  },
  {
   "cell_type": "code",
   "execution_count": 10,
   "metadata": {},
   "outputs": [],
   "source": [
    "classif_lrn_svm <- makeLearner(\"classif.svm\", predict.type = \"prob\")"
   ]
  },
  {
   "cell_type": "code",
   "execution_count": 11,
   "metadata": {},
   "outputs": [],
   "source": [
    "model_svm  <- train(classif_lrn_svm , classif_task)"
   ]
  },
  {
   "cell_type": "code",
   "execution_count": 12,
   "metadata": {},
   "outputs": [
    {
     "name": "stdout",
     "output_type": "stream",
     "text": [
      "Preparation of a new explainer is initiated\n",
      "  -> model label       :  WrappedModel  ( \u001b[33m default \u001b[39m )\n",
      "  -> data              :  768  rows  8  cols \n",
      "  -> target variable   :  768  values \n",
      "  -> predict function  :  yhat.WrappedModel  will be used ( \u001b[33m default \u001b[39m )\n",
      "  -> predicted values  :  numerical, min =  0.03747172 , mean =  0.6704681 , max =  0.9302601  \n",
      "  -> model_info        :  package mlr , ver. 2.19.0 , task classification ( \u001b[33m default \u001b[39m ) \n",
      "  -> residual function :  difference between y and yhat ( \u001b[33m default \u001b[39m )\n",
      "  -> residuals         :  numerical, min =  -0.9302601 , mean =  -0.3215098 , max =  0.9625283  \n",
      " \u001b[32m A new explainer has been created! \u001b[39m \n"
     ]
    }
   ],
   "source": [
    "explainer_svm  <- explain(model = model_svm,\n",
    "                     data = def[,-9],\n",
    "                     y = as.numeric(as.character(def$class)))"
   ]
  },
  {
   "cell_type": "code",
   "execution_count": 13,
   "metadata": {},
   "outputs": [
    {
     "data": {
      "text/plain": [
       "Measures for:  classification\n",
       "recall     : 0.4626866 \n",
       "precision  : 0.2077052 \n",
       "f1         : 0.2867052 \n",
       "accuracy   : 0.1966146 \n",
       "auc        : 0.1208358\n",
       "\n",
       "Residuals:\n",
       "        0%        10%        20%        30%        40%        50%        60% \n",
       "-0.9302601 -0.8975298 -0.8761892 -0.8407255 -0.8130196 -0.7423502 -0.5542303 \n",
       "       70%        80%        90%       100% \n",
       " 0.2399193  0.4662925  0.7683864  0.9625283 "
      ]
     },
     "metadata": {},
     "output_type": "display_data"
    }
   ],
   "source": [
    "model_performance(explainer_svm)"
   ]
  },
  {
   "cell_type": "code",
   "execution_count": 14,
   "metadata": {},
   "outputs": [],
   "source": [
    "fi <- model_parts(explainer_svm, B = 10)"
   ]
  },
  {
   "cell_type": "code",
   "execution_count": 15,
   "metadata": {},
   "outputs": [
    {
     "data": {
      "image/png": "[encoded data removed]",
      "text/plain": [
       "plot without title"
      ]
     },
     "metadata": {
      "image/png": {
       "height": 420,
       "width": 420
      }
     },
     "output_type": "display_data"
    }
   ],
   "source": [
    "plot(fi)"
   ]
  },
  {
   "cell_type": "markdown",
   "metadata": {},
   "source": [
    "# Dosyć nietypowy wynik. Przelosowanie wartości kolumn w każdym przypadku zwiększało AUC co sugeruje nieudolność modelu. Możnaby odwrócić wynik klasyfikacji modelu."
   ]
  },
  {
   "cell_type": "code",
   "execution_count": 16,
   "metadata": {},
   "outputs": [],
   "source": [
    "def$class[def$class == \"1\"] <- 3\n",
    "def$class[def$class == \"0\"] <- 1\n",
    "def$class[def$class == \"3\"] <- 0"
   ]
  },
  {
   "cell_type": "code",
   "execution_count": 17,
   "metadata": {},
   "outputs": [
    {
     "data": {
      "text/html": [
       "<table>\n",
       "<caption>A data.frame: 6 × 9</caption>\n",
       "<thead>\n",
       "\t<tr><th></th><th scope=col>preg</th><th scope=col>plas</th><th scope=col>pres</th><th scope=col>skin</th><th scope=col>insu</th><th scope=col>mass</th><th scope=col>pedi</th><th scope=col>age</th><th scope=col>class</th></tr>\n",
       "\t<tr><th></th><th scope=col>&lt;int&gt;</th><th scope=col>&lt;int&gt;</th><th scope=col>&lt;int&gt;</th><th scope=col>&lt;int&gt;</th><th scope=col>&lt;int&gt;</th><th scope=col>&lt;dbl&gt;</th><th scope=col>&lt;dbl&gt;</th><th scope=col>&lt;int&gt;</th><th scope=col>&lt;chr&gt;</th></tr>\n",
       "</thead>\n",
       "<tbody>\n",
       "\t<tr><th scope=row>1</th><td>6</td><td>148</td><td>72</td><td>35</td><td>  0</td><td>33.6</td><td>0.627</td><td>50</td><td>0</td></tr>\n",
       "\t<tr><th scope=row>2</th><td>1</td><td> 85</td><td>66</td><td>29</td><td>  0</td><td>26.6</td><td>0.351</td><td>31</td><td>1</td></tr>\n",
       "\t<tr><th scope=row>3</th><td>8</td><td>183</td><td>64</td><td> 0</td><td>  0</td><td>23.3</td><td>0.672</td><td>32</td><td>0</td></tr>\n",
       "\t<tr><th scope=row>4</th><td>1</td><td> 89</td><td>66</td><td>23</td><td> 94</td><td>28.1</td><td>0.167</td><td>21</td><td>1</td></tr>\n",
       "\t<tr><th scope=row>5</th><td>0</td><td>137</td><td>40</td><td>35</td><td>168</td><td>43.1</td><td>2.288</td><td>33</td><td>0</td></tr>\n",
       "\t<tr><th scope=row>6</th><td>5</td><td>116</td><td>74</td><td> 0</td><td>  0</td><td>25.6</td><td>0.201</td><td>30</td><td>1</td></tr>\n",
       "</tbody>\n",
       "</table>\n"
      ],
      "text/latex": [
       "A data.frame: 6 × 9\n",
       "\\begin{tabular}{r|lllllllll}\n",
       "  & preg & plas & pres & skin & insu & mass & pedi & age & class\\\\\n",
       "  & <int> & <int> & <int> & <int> & <int> & <dbl> & <dbl> & <int> & <chr>\\\\\n",
       "\\hline\n",
       "\t1 & 6 & 148 & 72 & 35 &   0 & 33.6 & 0.627 & 50 & 0\\\\\n",
       "\t2 & 1 &  85 & 66 & 29 &   0 & 26.6 & 0.351 & 31 & 1\\\\\n",
       "\t3 & 8 & 183 & 64 &  0 &   0 & 23.3 & 0.672 & 32 & 0\\\\\n",
       "\t4 & 1 &  89 & 66 & 23 &  94 & 28.1 & 0.167 & 21 & 1\\\\\n",
       "\t5 & 0 & 137 & 40 & 35 & 168 & 43.1 & 2.288 & 33 & 0\\\\\n",
       "\t6 & 5 & 116 & 74 &  0 &   0 & 25.6 & 0.201 & 30 & 1\\\\\n",
       "\\end{tabular}\n"
      ],
      "text/markdown": [
       "\n",
       "A data.frame: 6 × 9\n",
       "\n",
       "| <!--/--> | preg &lt;int&gt; | plas &lt;int&gt; | pres &lt;int&gt; | skin &lt;int&gt; | insu &lt;int&gt; | mass &lt;dbl&gt; | pedi &lt;dbl&gt; | age &lt;int&gt; | class &lt;chr&gt; |\n",
       "|---|---|---|---|---|---|---|---|---|---|\n",
       "| 1 | 6 | 148 | 72 | 35 |   0 | 33.6 | 0.627 | 50 | 0 |\n",
       "| 2 | 1 |  85 | 66 | 29 |   0 | 26.6 | 0.351 | 31 | 1 |\n",
       "| 3 | 8 | 183 | 64 |  0 |   0 | 23.3 | 0.672 | 32 | 0 |\n",
       "| 4 | 1 |  89 | 66 | 23 |  94 | 28.1 | 0.167 | 21 | 1 |\n",
       "| 5 | 0 | 137 | 40 | 35 | 168 | 43.1 | 2.288 | 33 | 0 |\n",
       "| 6 | 5 | 116 | 74 |  0 |   0 | 25.6 | 0.201 | 30 | 1 |\n",
       "\n"
      ],
      "text/plain": [
       "  preg plas pres skin insu mass pedi  age class\n",
       "1 6    148  72   35     0  33.6 0.627 50  0    \n",
       "2 1     85  66   29     0  26.6 0.351 31  1    \n",
       "3 8    183  64    0     0  23.3 0.672 32  0    \n",
       "4 1     89  66   23    94  28.1 0.167 21  1    \n",
       "5 0    137  40   35   168  43.1 2.288 33  0    \n",
       "6 5    116  74    0     0  25.6 0.201 30  1    "
      ]
     },
     "metadata": {},
     "output_type": "display_data"
    }
   ],
   "source": [
    "head(def)"
   ]
  },
  {
   "cell_type": "code",
   "execution_count": 18,
   "metadata": {},
   "outputs": [],
   "source": [
    "model_svm  <- train(classif_lrn_svm , classif_task)"
   ]
  },
  {
   "cell_type": "code",
   "execution_count": 19,
   "metadata": {},
   "outputs": [
    {
     "name": "stdout",
     "output_type": "stream",
     "text": [
      "Preparation of a new explainer is initiated\n",
      "  -> model label       :  WrappedModel  ( \u001b[33m default \u001b[39m )\n",
      "  -> data              :  768  rows  8  cols \n",
      "  -> target variable   :  768  values \n",
      "  -> predict function  :  yhat.WrappedModel  will be used ( \u001b[33m default \u001b[39m )\n",
      "  -> predicted values  :  numerical, min =  0.04531547 , mean =  0.6692001 , max =  0.9228405  \n",
      "  -> model_info        :  package mlr , ver. 2.19.0 , task classification ( \u001b[33m default \u001b[39m ) \n",
      "  -> residual function :  difference between y and yhat ( \u001b[33m default \u001b[39m )\n",
      "  -> residuals         :  numerical, min =  -0.8911439 , mean =  -0.01815846 , max =  0.8506347  \n",
      " \u001b[32m A new explainer has been created! \u001b[39m \n"
     ]
    }
   ],
   "source": [
    "explainer_svm  <- explain(model = model_svm,\n",
    "                     data = def[,-9],\n",
    "                     y = as.numeric(as.character(def$class)))"
   ]
  },
  {
   "cell_type": "code",
   "execution_count": 20,
   "metadata": {},
   "outputs": [
    {
     "data": {
      "text/plain": [
       "Measures for:  classification\n",
       "recall     : 0.946 \n",
       "precision  : 0.7909699 \n",
       "f1         : 0.8615665 \n",
       "accuracy   : 0.8020833 \n",
       "auc        : 0.8791642\n",
       "\n",
       "Residuals:\n",
       "         0%         10%         20%         30%         40%         50% \n",
       "-0.89114392 -0.64818897 -0.40153788 -0.18747472  0.09948461  0.12032059 \n",
       "        60%         70%         80%         90%        100% \n",
       " 0.15284153  0.18913307  0.21883987  0.33851248  0.85063468 "
      ]
     },
     "metadata": {},
     "output_type": "display_data"
    }
   ],
   "source": [
    "model_performance(explainer_svm)"
   ]
  },
  {
   "cell_type": "code",
   "execution_count": 21,
   "metadata": {},
   "outputs": [],
   "source": [
    "fi <- model_parts(explainer_svm, B = 10)"
   ]
  },
  {
   "cell_type": "code",
   "execution_count": 22,
   "metadata": {},
   "outputs": [
    {
     "data": {
      "image/png": "[encoded data removed]",
      "text/plain": [
       "plot without title"
      ]
     },
     "metadata": {
      "image/png": {
       "height": 420,
       "width": 420
      }
     },
     "output_type": "display_data"
    }
   ],
   "source": [
    "plot(fi)"
   ]
  },
  {
   "cell_type": "markdown",
   "metadata": {},
   "source": [
    "# Wynik jest symetryczny do poprzedniego i podobny do tego przy rangerze aczkolwiek SVM traci więcej AUC przy tasowaniu"
   ]
  }
 ],
 "metadata": {
  "kernelspec": {
   "display_name": "R",
   "language": "R",
   "name": "ir"
  },
  "language_info": {
   "codemirror_mode": "r",
   "file_extension": ".r",
   "mimetype": "text/x-r-source",
   "name": "R",
   "pygments_lexer": "r",
   "version": "4.0.3"
  }
 },
 "nbformat": 4,
 "nbformat_minor": 4
}
