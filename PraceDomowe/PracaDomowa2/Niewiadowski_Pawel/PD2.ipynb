{
 "cells": [
  {
   "cell_type": "markdown",
   "metadata": {},
   "source": [
    "Praca domowa 2 (8 pkt.)\n",
    "Termin: 07.04.2021 23:59\n",
    "\n",
    "Dla wybranego modelu przygotuj knitr/jupyter notebook w formacie html lub pdf rozwiązując poniższe punkty. Pracę domową należy zgłosić przez Pull Request na GitHub w folderze PraceDomowe/PracaDomowa2/Nazwisko_Imię.\n",
    "\n",
    "    Dla wybranej obserwacji ze zbioru danych wylicz predykcję modelu.\n",
    "    Dla wybranej obserwacji z punktu 1., wylicz dekompozycję predykcji modelu używając LIME (pakiety w R: live, lime, localModel, iml, pakiety w Python: lime, dalex).\n",
    "    Porównaj dekompozycję LIME dla różnych obserwacji w zbiorze. Jak stabilne są otrzymane wyjaśnienia?\n",
    "    Skomentuj poszczególne wyniki uzyskane w powyższych punktach.\n",
    "    Dla wybranej obserwacji porównaj wyjaśnienie LIME wyjaśnieniem BreakDown lub SHAP\n",
    "    W pracy domowej oceniane przede wszystkim będą wnioski z otrzymanych analiz. Kod potrzebny do reprudokowalności wyników również proszę załączyć.\n",
    "\n",
    "Prace domowe należy zgłaszać przez Pull Request o tytule Nazwisko Imię PD2. Wszystkie pliki związane z pracą domową proszę o umieszczenie w folderze Nazwisko_Imię."
   ]
  },
  {
   "cell_type": "code",
   "execution_count": 1,
   "metadata": {},
   "outputs": [],
   "source": [
    "suppressWarnings(suppressMessages(library(OpenML)))\n",
    "suppressWarnings(suppressMessages(library(mlr)))\n",
    "suppressWarnings(suppressMessages(library(pROC)))\n",
    "suppressWarnings(suppressMessages(library(plyr)))\n",
    "suppressWarnings(suppressMessages(library(DALEX)))\n",
    "suppressWarnings(suppressMessages(library(DALEXtra)))\n",
    "suppressWarnings(suppressMessages(library(\"lime\")))\n",
    "\n",
    "set.seed(6)"
   ]
  },
  {
   "cell_type": "code",
   "execution_count": 2,
   "metadata": {},
   "outputs": [
    {
     "data": {
      "text/html": [
       "<table>\n",
       "<caption>A data.frame: 6 × 9</caption>\n",
       "<thead>\n",
       "\t<tr><th></th><th scope=col>preg</th><th scope=col>plas</th><th scope=col>pres</th><th scope=col>skin</th><th scope=col>insu</th><th scope=col>mass</th><th scope=col>pedi</th><th scope=col>age</th><th scope=col>class</th></tr>\n",
       "\t<tr><th></th><th scope=col>&lt;dbl&gt;</th><th scope=col>&lt;dbl&gt;</th><th scope=col>&lt;dbl&gt;</th><th scope=col>&lt;dbl&gt;</th><th scope=col>&lt;dbl&gt;</th><th scope=col>&lt;dbl&gt;</th><th scope=col>&lt;dbl&gt;</th><th scope=col>&lt;dbl&gt;</th><th scope=col>&lt;fct&gt;</th></tr>\n",
       "</thead>\n",
       "<tbody>\n",
       "\t<tr><th scope=row>0</th><td>6</td><td>148</td><td>72</td><td>35</td><td>  0</td><td>33.6</td><td>0.627</td><td>50</td><td>1</td></tr>\n",
       "\t<tr><th scope=row>1</th><td>1</td><td> 85</td><td>66</td><td>29</td><td>  0</td><td>26.6</td><td>0.351</td><td>31</td><td>0</td></tr>\n",
       "\t<tr><th scope=row>2</th><td>8</td><td>183</td><td>64</td><td> 0</td><td>  0</td><td>23.3</td><td>0.672</td><td>32</td><td>1</td></tr>\n",
       "\t<tr><th scope=row>3</th><td>1</td><td> 89</td><td>66</td><td>23</td><td> 94</td><td>28.1</td><td>0.167</td><td>21</td><td>0</td></tr>\n",
       "\t<tr><th scope=row>4</th><td>0</td><td>137</td><td>40</td><td>35</td><td>168</td><td>43.1</td><td>2.288</td><td>33</td><td>1</td></tr>\n",
       "\t<tr><th scope=row>5</th><td>5</td><td>116</td><td>74</td><td> 0</td><td>  0</td><td>25.6</td><td>0.201</td><td>30</td><td>0</td></tr>\n",
       "</tbody>\n",
       "</table>\n"
      ],
      "text/latex": [
       "A data.frame: 6 × 9\n",
       "\\begin{tabular}{r|lllllllll}\n",
       "  & preg & plas & pres & skin & insu & mass & pedi & age & class\\\\\n",
       "  & <dbl> & <dbl> & <dbl> & <dbl> & <dbl> & <dbl> & <dbl> & <dbl> & <fct>\\\\\n",
       "\\hline\n",
       "\t0 & 6 & 148 & 72 & 35 &   0 & 33.6 & 0.627 & 50 & 1\\\\\n",
       "\t1 & 1 &  85 & 66 & 29 &   0 & 26.6 & 0.351 & 31 & 0\\\\\n",
       "\t2 & 8 & 183 & 64 &  0 &   0 & 23.3 & 0.672 & 32 & 1\\\\\n",
       "\t3 & 1 &  89 & 66 & 23 &  94 & 28.1 & 0.167 & 21 & 0\\\\\n",
       "\t4 & 0 & 137 & 40 & 35 & 168 & 43.1 & 2.288 & 33 & 1\\\\\n",
       "\t5 & 5 & 116 & 74 &  0 &   0 & 25.6 & 0.201 & 30 & 0\\\\\n",
       "\\end{tabular}\n"
      ],
      "text/markdown": [
       "\n",
       "A data.frame: 6 × 9\n",
       "\n",
       "| <!--/--> | preg &lt;dbl&gt; | plas &lt;dbl&gt; | pres &lt;dbl&gt; | skin &lt;dbl&gt; | insu &lt;dbl&gt; | mass &lt;dbl&gt; | pedi &lt;dbl&gt; | age &lt;dbl&gt; | class &lt;fct&gt; |\n",
       "|---|---|---|---|---|---|---|---|---|---|\n",
       "| 0 | 6 | 148 | 72 | 35 |   0 | 33.6 | 0.627 | 50 | 1 |\n",
       "| 1 | 1 |  85 | 66 | 29 |   0 | 26.6 | 0.351 | 31 | 0 |\n",
       "| 2 | 8 | 183 | 64 |  0 |   0 | 23.3 | 0.672 | 32 | 1 |\n",
       "| 3 | 1 |  89 | 66 | 23 |  94 | 28.1 | 0.167 | 21 | 0 |\n",
       "| 4 | 0 | 137 | 40 | 35 | 168 | 43.1 | 2.288 | 33 | 1 |\n",
       "| 5 | 5 | 116 | 74 |  0 |   0 | 25.6 | 0.201 | 30 | 0 |\n",
       "\n"
      ],
      "text/plain": [
       "  preg plas pres skin insu mass pedi  age class\n",
       "0 6    148  72   35     0  33.6 0.627 50  1    \n",
       "1 1     85  66   29     0  26.6 0.351 31  0    \n",
       "2 8    183  64    0     0  23.3 0.672 32  1    \n",
       "3 1     89  66   23    94  28.1 0.167 21  0    \n",
       "4 0    137  40   35   168  43.1 2.288 33  1    \n",
       "5 5    116  74    0     0  25.6 0.201 30  0    "
      ]
     },
     "metadata": {},
     "output_type": "display_data"
    }
   ],
   "source": [
    "def <- suppressWarnings(suppressMessages(getOMLDataSet(data.id = 37)))\n",
    "def <- def$data\n",
    "def$class <- mapvalues(def$class, \n",
    "          from=c(\"tested_positive\",\"tested_negative\"), \n",
    "          to=c(1,0))\n",
    "head(def)"
   ]
  },
  {
   "cell_type": "code",
   "execution_count": 3,
   "metadata": {},
   "outputs": [],
   "source": [
    "m <- sample(1:nrow(def), 0.7*nrow(def))\n",
    "train <- def[m,]\n",
    "test <- def[-m,]"
   ]
  },
  {
   "cell_type": "code",
   "execution_count": 4,
   "metadata": {},
   "outputs": [],
   "source": [
    "classif_task <- makeClassifTask(id = \"lvr\", data = train, target = \"class\")\n",
    "\n",
    "classif_lrn <- makeLearner(\"classif.svm\", predict.type = \"prob\")"
   ]
  },
  {
   "cell_type": "code",
   "execution_count": 5,
   "metadata": {},
   "outputs": [],
   "source": [
    "model <- train(classif_lrn, classif_task)"
   ]
  },
  {
   "cell_type": "markdown",
   "metadata": {},
   "source": [
    "# Dla wybranej obserwacji ze zbioru danych wylicz predykcję modelu."
   ]
  },
  {
   "cell_type": "code",
   "execution_count": 6,
   "metadata": {},
   "outputs": [
    {
     "data": {
      "text/html": [
       "<table>\n",
       "<caption>A data.frame: 1 × 9</caption>\n",
       "<thead>\n",
       "\t<tr><th></th><th scope=col>preg</th><th scope=col>plas</th><th scope=col>pres</th><th scope=col>skin</th><th scope=col>insu</th><th scope=col>mass</th><th scope=col>pedi</th><th scope=col>age</th><th scope=col>class</th></tr>\n",
       "\t<tr><th></th><th scope=col>&lt;dbl&gt;</th><th scope=col>&lt;dbl&gt;</th><th scope=col>&lt;dbl&gt;</th><th scope=col>&lt;dbl&gt;</th><th scope=col>&lt;dbl&gt;</th><th scope=col>&lt;dbl&gt;</th><th scope=col>&lt;dbl&gt;</th><th scope=col>&lt;dbl&gt;</th><th scope=col>&lt;fct&gt;</th></tr>\n",
       "</thead>\n",
       "<tbody>\n",
       "\t<tr><th scope=row>547</th><td>4</td><td>131</td><td>68</td><td>21</td><td>166</td><td>33.1</td><td>0.16</td><td>28</td><td>0</td></tr>\n",
       "</tbody>\n",
       "</table>\n"
      ],
      "text/latex": [
       "A data.frame: 1 × 9\n",
       "\\begin{tabular}{r|lllllllll}\n",
       "  & preg & plas & pres & skin & insu & mass & pedi & age & class\\\\\n",
       "  & <dbl> & <dbl> & <dbl> & <dbl> & <dbl> & <dbl> & <dbl> & <dbl> & <fct>\\\\\n",
       "\\hline\n",
       "\t547 & 4 & 131 & 68 & 21 & 166 & 33.1 & 0.16 & 28 & 0\\\\\n",
       "\\end{tabular}\n"
      ],
      "text/markdown": [
       "\n",
       "A data.frame: 1 × 9\n",
       "\n",
       "| <!--/--> | preg &lt;dbl&gt; | plas &lt;dbl&gt; | pres &lt;dbl&gt; | skin &lt;dbl&gt; | insu &lt;dbl&gt; | mass &lt;dbl&gt; | pedi &lt;dbl&gt; | age &lt;dbl&gt; | class &lt;fct&gt; |\n",
       "|---|---|---|---|---|---|---|---|---|---|\n",
       "| 547 | 4 | 131 | 68 | 21 | 166 | 33.1 | 0.16 | 28 | 0 |\n",
       "\n"
      ],
      "text/plain": [
       "    preg plas pres skin insu mass pedi age class\n",
       "547 4    131  68   21   166  33.1 0.16 28  0    "
      ]
     },
     "metadata": {},
     "output_type": "display_data"
    }
   ],
   "source": [
    "r <- test[sample(1:nrow(test), 1),]\n",
    "r"
   ]
  },
  {
   "cell_type": "code",
   "execution_count": 7,
   "metadata": {},
   "outputs": [
    {
     "data": {
      "text/html": [
       "0.819255374384022"
      ],
      "text/latex": [
       "0.819255374384022"
      ],
      "text/markdown": [
       "0.819255374384022"
      ],
      "text/plain": [
       "[1] 0.8192554"
      ]
     },
     "metadata": {},
     "output_type": "display_data"
    }
   ],
   "source": [
    "pred_r <- predict(model, newdata = r)$data$prob.0\n",
    "pred_r"
   ]
  },
  {
   "cell_type": "markdown",
   "metadata": {},
   "source": [
    "Maszyna wektorów nośnych dosyć dobrze przewiduje rekord"
   ]
  },
  {
   "cell_type": "markdown",
   "metadata": {},
   "source": [
    "# Dla wybranej obserwacji z punktu 1., wylicz dekompozycję predykcji modelu używając LIME"
   ]
  },
  {
   "cell_type": "code",
   "execution_count": 8,
   "metadata": {},
   "outputs": [
    {
     "name": "stdout",
     "output_type": "stream",
     "text": [
      "Preparation of a new explainer is initiated\n",
      "  -> model label       :  WrappedModel  ( \u001b[33m default \u001b[39m )\n",
      "  -> data              :  768  rows  8  cols \n",
      "  -> target variable   :  768  values \n",
      "  -> predict function  :  yhat.WrappedModel  will be used ( \u001b[33m default \u001b[39m )\n",
      "  -> predicted values  :  numerical, min =  0.04241866 , mean =  0.6503798 , max =  0.9428413  \n",
      "  -> model_info        :  package mlr , ver. 2.19.0 , task classification ( \u001b[33m default \u001b[39m ) \n",
      "  -> residual function :  difference between y and yhat ( \u001b[33m default \u001b[39m )\n",
      "  -> residuals         :  numerical, min =  -0.9428413 , mean =  -0.3014215 , max =  0.9575813  \n",
      " \u001b[32m A new explainer has been created! \u001b[39m \n"
     ]
    }
   ],
   "source": [
    "explainer <- DALEX::explain(model = model,\n",
    "                     data = def[,-9],\n",
    "                     y = as.numeric(as.character(def$class)))"
   ]
  },
  {
   "cell_type": "code",
   "execution_count": 9,
   "metadata": {},
   "outputs": [],
   "source": [
    "model_type.dalex_explainer <- DALEXtra::model_type.dalex_explainer\n",
    "predict_model.dalex_explainer <- DALEXtra::predict_model.dalex_explainer"
   ]
  },
  {
   "cell_type": "code",
   "execution_count": 10,
   "metadata": {},
   "outputs": [],
   "source": [
    "lime_svm <- predict_surrogate(explainer = explainer, \n",
    "                                     new_observation = r[, -9], \n",
    "                                     n_features = 3, \n",
    "                                     n_permutations = 1000,\n",
    "                                     type = \"lime\")"
   ]
  },
  {
   "cell_type": "code",
   "execution_count": 11,
   "metadata": {},
   "outputs": [
    {
     "data": {
      "image/png": "[encoded data removed]",
      "text/plain": [
       "plot without title"
      ]
     },
     "metadata": {
      "image/png": {
       "height": 420,
       "width": 420
      }
     },
     "output_type": "display_data"
    }
   ],
   "source": [
    "plot(lime_svm)"
   ]
  },
  {
   "cell_type": "markdown",
   "metadata": {},
   "source": [
    "Kożystając z metody LIME doszliśmy do wniosku, że dla tego konkretnego przypadku wartość zmiennej *insu* powyżej 127,2 miała największy wpływ na prawdopodobieństwo wystąpienia cukrzycy. Zaraz potem, największy wpływ mają zmienne *pedi* niewiększa od 0,244 i *skin* niewiększa od 23"
   ]
  },
  {
   "cell_type": "markdown",
   "metadata": {},
   "source": [
    "# Porównaj dekompozycję LIME dla różnych obserwacji w zbiorze. Jak stabilne są otrzymane wyjaśnienia?"
   ]
  },
  {
   "cell_type": "code",
   "execution_count": 12,
   "metadata": {},
   "outputs": [
    {
     "data": {
      "image/png": "[encoded data removed]",
      "text/plain": [
       "plot without title"
      ]
     },
     "metadata": {
      "image/png": {
       "height": 420,
       "width": 420
      }
     },
     "output_type": "display_data"
    },
    {
     "data": {
      "image/png": "[encoded data removed]",
      "text/plain": [
       "plot without title"
      ]
     },
     "metadata": {
      "image/png": {
       "height": 420,
       "width": 420
      }
     },
     "output_type": "display_data"
    }
   ],
   "source": [
    "lime_svm_1 <- predict_surrogate(explainer = explainer, \n",
    "                                     new_observation = test[3, -9], \n",
    "                                     n_features = 3, \n",
    "                                     n_permutations = 1000,\n",
    "                                     type = \"lime\")\n",
    "lime_svm_2 <- predict_surrogate(explainer = explainer, \n",
    "                                     new_observation = test[1, -9], \n",
    "                                     n_features = 3, \n",
    "                                     n_permutations = 1000,\n",
    "                                     type = \"lime\")\n",
    "plot(lime_svm_1)\n",
    "plot(lime_svm_2)"
   ]
  },
  {
   "cell_type": "markdown",
   "metadata": {},
   "source": [
    "Można zauważyć, że dla różnych obserwacji LIME zwraca różne najistotniejsze zmienne. Zmienne zgodne w obu przypadkach *mass <= 27.3* mają bardzo zbliżony wpływ na predykcję, co jednak nie musi zachodzić w ogólności. Warto też zwrócic uwagę na bardzo słabe dopasowanie."
   ]
  },
  {
   "cell_type": "markdown",
   "metadata": {},
   "source": [
    "# Dla wybranej obserwacji porównaj wyjaśnienie LIME wyjaśnieniem BreakDown lub SHAP"
   ]
  },
  {
   "cell_type": "code",
   "execution_count": 13,
   "metadata": {},
   "outputs": [
    {
     "data": {
      "image/png": "[encoded data removed]",
      "text/plain": [
       "plot without title"
      ]
     },
     "metadata": {
      "image/png": {
       "height": 420,
       "width": 420
      }
     },
     "output_type": "display_data"
    },
    {
     "data": {
      "image/png": "[encoded data removed]",
      "text/plain": [
       "plot without title"
      ]
     },
     "metadata": {
      "image/png": {
       "height": 420,
       "width": 420
      }
     },
     "output_type": "display_data"
    }
   ],
   "source": [
    "plot(lime_svm)\n",
    "pp_SVM <- predict_parts(explainer, new_observation = r, type = \"break_down\")\n",
    "plot(pp_SVM)"
   ]
  },
  {
   "cell_type": "markdown",
   "metadata": {},
   "source": [
    "Wyjaśnienia LIME oraz Breakdown mogą prowadzić do istotnie różnych wniosków. Widać to najbardziej przy zmiennej *insu*. LIME twierdzi, że wartość tej zmiennej wpływa znacznie negatywnie na wynik (~ -0,1), a Breakdown, przeciwnie (+0,03). Różnie się również kolejność zmiennych ze względu na ich istotność. Dla Breakdown były to *pedi, preg i insu* a dla LIME *insu, pedi i skin*"
   ]
  }
 ],
 "metadata": {
  "kernelspec": {
   "display_name": "R",
   "language": "R",
   "name": "ir"
  },
  "language_info": {
   "codemirror_mode": "r",
   "file_extension": ".r",
   "mimetype": "text/x-r-source",
   "name": "R",
   "pygments_lexer": "r",
   "version": "4.0.3"
  }
 },
 "nbformat": 4,
 "nbformat_minor": 4
}
