{
 "cells": [
  {
   "cell_type": "markdown",
   "id": "b7dff6dc",
   "metadata": {},
   "source": [
    "# Praca domowa 2\n",
    "## Martyna Majchrzak"
   ]
  },
  {
   "cell_type": "code",
   "execution_count": 17,
   "id": "6305079e",
   "metadata": {},
   "outputs": [],
   "source": [
    "library(DALEXtra)"
   ]
  },
  {
   "cell_type": "code",
   "execution_count": 8,
   "id": "ac9ce513",
   "metadata": {},
   "outputs": [
    {
     "ename": "ERROR",
     "evalue": "Error in library(lime): there is no package called 'lime'\n",
     "output_type": "error",
     "traceback": [
      "Error in library(lime): there is no package called 'lime'\nTraceback:\n",
      "1. library(lime)"
     ]
    }
   ],
   "source": [
    "library(OpenML)\n",
    "library(mlr)\n",
    "library(DALEX)\n",
    "library(DALEXtra)\n",
    "library(ggplot2)\n",
    "library(gridExtra)\n",
    "library(lime)\n",
    "set.seed(1)\n",
    "diabetes <- getOMLDataSet(data.id = 37L)\n",
    "diabetes <- diabetes$data"
   ]
  },
  {
   "cell_type": "markdown",
   "id": "257f177e",
   "metadata": {},
   "source": [
    "## Zbiór danych\n",
    "\n",
    "Zbiór danych Diabetes zawiera informacje o osobach chorych na cukrzycę.\n",
    "\n",
    "1. preg - ile razy dana osoba była w ciąży\n",
    "2. plas - stężenie glukozy w osoczu po 2h ustnego testu na tolerancję glukozy\n",
    "3. pres - ciśnienie rozkurczowe (mm Hg)\n",
    "4. skin - grubość skóry mierzona na tricepsie (mm)\n",
    "5. insu - 2-Hour serum insulin (mu U/ml)\n",
    "6. mass - index masy ciała BMI (waga w kg/(wzrost w m)^2)\n",
    "7. pedi - obciążenie genetyczne (Diabetes pedigree function)\n",
    "8. age - wiek (lata)\n",
    "9. class - zmienna celu o wartościach tested_negative oraz tested_positive"
   ]
  },
  {
   "cell_type": "markdown",
   "id": "2cbbf405",
   "metadata": {},
   "source": [
    "## Rozkłady zmiennych"
   ]
  },
  {
   "cell_type": "code",
   "execution_count": 2,
   "id": "50434118",
   "metadata": {},
   "outputs": [
    {
     "data": {
      "image/png": "[encoded data removed]",
      "text/plain": [
       "plot without title"
      ]
     },
     "metadata": {},
     "output_type": "display_data"
    }
   ],
   "source": [
    "variables <- names(diabetes[,-9])\n",
    "\n",
    "plots <- lapply(variables, function(variable){\n",
    "  ggplot(data=diabetes, aes_string(variable)) +\n",
    "    geom_boxplot(fill='darkred') +\n",
    "    ylab('')\n",
    "})\n",
    "\n",
    "grid.arrange(grobs=plots, ncol=3)"
   ]
  },
  {
   "cell_type": "markdown",
   "id": "9d6bb088",
   "metadata": {},
   "source": [
    "## Tworzenie modelu i explainera\n",
    "\n",
    "W rozwiązaniu zostanie użyty model Random Forest. Według danych OpenML  ( https://www.openml.org/t/37 ) osiąga on średnio największą wartość miary accuracy."
   ]
  },
  {
   "cell_type": "code",
   "execution_count": 3,
   "id": "02507ecf",
   "metadata": {},
   "outputs": [
    {
     "name": "stdout",
     "output_type": "stream",
     "text": [
      "Preparation of a new explainer is initiated\n",
      "  -> model label       :  ranger  (  default  )\n",
      "  -> data              :  768  rows  8  cols \n",
      "  -> target variable   :  768  values \n",
      "  -> model_info        :  package ranger , ver. 0.12.1 , task classification (  default  ) \n",
      "  -> predict function  :  yhat.ranger  will be used (  default  )\n",
      "  -> predicted values  :  numerical, min =  0 , mean =  0.3491104 , max =  0.953319  \n",
      "  -> residual function :  difference between y and yhat (  default  )\n",
      "  -> residuals         :  numerical, min =  -0.5822087 , mean =  -0.0001521111 , max =  0.6520325  \n",
      "  A new explainer has been created!  \n"
     ]
    }
   ],
   "source": [
    "model_ranger <- ranger::ranger(class~., data = diabetes, classification = TRUE, probability = TRUE)\n",
    "\n",
    "explainer<- DALEX::explain(model = model_ranger,\n",
    "                         data = diabetes[,-9],\n",
    "                         y = as.numeric(diabetes$class=='tested_positive'),\n",
    "                    colorize = FALSE)"
   ]
  },
  {
   "cell_type": "markdown",
   "id": "1041f654",
   "metadata": {},
   "source": [
    "## Predykcja dla obserwacji 13\n",
    "\n",
    "Przyjrzyjmy się pacjentce ze szczęśliwym numerem 13. Jest to 57-latka która była w ciąży 10 razy i ma BMI 27,1 (nadwaga)."
   ]
  },
  {
   "cell_type": "code",
   "execution_count": 5,
   "id": "ac2a82f3",
   "metadata": {},
   "outputs": [
    {
     "data": {
      "text/html": [
       "<table>\n",
       "<thead><tr><th></th><th scope=col>preg</th><th scope=col>plas</th><th scope=col>pres</th><th scope=col>skin</th><th scope=col>insu</th><th scope=col>mass</th><th scope=col>pedi</th><th scope=col>age</th><th scope=col>class</th></tr></thead>\n",
       "<tbody>\n",
       "\t<tr><th scope=row>12</th><td>10             </td><td>139            </td><td>80             </td><td>0              </td><td>0              </td><td>27.1           </td><td>1.441          </td><td>57             </td><td>tested_negative</td></tr>\n",
       "</tbody>\n",
       "</table>\n"
      ],
      "text/latex": [
       "\\begin{tabular}{r|lllllllll}\n",
       "  & preg & plas & pres & skin & insu & mass & pedi & age & class\\\\\n",
       "\\hline\n",
       "\t12 & 10                & 139               & 80                & 0                 & 0                 & 27.1              & 1.441             & 57                & tested\\_negative\\\\\n",
       "\\end{tabular}\n"
      ],
      "text/markdown": [
       "\n",
       "| <!--/--> | preg | plas | pres | skin | insu | mass | pedi | age | class |\n",
       "|---|---|---|---|---|---|---|---|---|---|\n",
       "| 12 | 10              | 139             | 80              | 0               | 0               | 27.1            | 1.441           | 57              | tested_negative |\n",
       "\n"
      ],
      "text/plain": [
       "   preg plas pres skin insu mass pedi  age class          \n",
       "12 10   139  80   0    0    27.1 1.441 57  tested_negative"
      ]
     },
     "metadata": {},
     "output_type": "display_data"
    }
   ],
   "source": [
    "diabetes[13,]"
   ]
  },
  {
   "cell_type": "code",
   "execution_count": 6,
   "id": "96d71b33",
   "metadata": {},
   "outputs": [
    {
     "data": {
      "text/html": [
       "<table>\n",
       "<thead><tr><th scope=col>tested_negative</th><th scope=col>tested_positive</th></tr></thead>\n",
       "<tbody>\n",
       "\t<tr><td>0.7534169</td><td>0.2465831</td></tr>\n",
       "</tbody>\n",
       "</table>\n"
      ],
      "text/latex": [
       "\\begin{tabular}{ll}\n",
       " tested\\_negative & tested\\_positive\\\\\n",
       "\\hline\n",
       "\t 0.7534169 & 0.2465831\\\\\n",
       "\\end{tabular}\n"
      ],
      "text/markdown": [
       "\n",
       "| tested_negative | tested_positive |\n",
       "|---|---|\n",
       "| 0.7534169 | 0.2465831 |\n",
       "\n"
      ],
      "text/plain": [
       "     tested_negative tested_positive\n",
       "[1,] 0.7534169       0.2465831      "
      ]
     },
     "metadata": {},
     "output_type": "display_data"
    }
   ],
   "source": [
    "prediction13<-predict(model_ranger, diabetes[13,])\n",
    "prediction13$predictions"
   ]
  },
  {
   "cell_type": "markdown",
   "id": "3019dd60",
   "metadata": {},
   "source": [
    "Ta osoba z prawdopodobieństwem ok. 0.75 została przypisana do klasy tested_negative (czyli 0.25 do tested_positive)"
   ]
  },
  {
   "cell_type": "markdown",
   "id": "46241304",
   "metadata": {},
   "source": [
    "## LIME"
   ]
  },
  {
   "cell_type": "code",
   "execution_count": 19,
   "id": "c3b78225",
   "metadata": {},
   "outputs": [
    {
     "ename": "ERROR",
     "evalue": "Error: 'model_type.dalex_explainer' is not an exported object from 'namespace:DALEXtra'\n",
     "output_type": "error",
     "traceback": [
      "Error: 'model_type.dalex_explainer' is not an exported object from 'namespace:DALEXtra'\nTraceback:\n",
      "1. DALEXtra::model_type.dalex_explainer",
      "2. getExportedValue(pkg, name)",
      "3. stop(gettextf(\"'%s' is not an exported object from 'namespace:%s'\", \n .     name, getNamespaceName(ns)), call. = FALSE, domain = NA)"
     ]
    }
   ],
   "source": [
    "library(DALEXtra)\n",
    "library(lime)\n",
    "model_type.dalex_explainer <- DALEXtra::model_type.dalex_explainer\n",
    "predict_model.dalex_explainer <- DALEXtra::predict_model.dalex_explainer\n",
    "lime_ranger13 <- predict_surrogate(\n",
    "  explainer = explainer,\n",
    "  new_observation = diabetes[13,-9], \n",
    "  n_features = 3, \n",
    "  n_permutations = 1000,\n",
    "  type = \"lime\")\n",
    "\n",
    "plot(lime_ranger13)"
   ]
  },
  {
   "cell_type": "markdown",
   "id": "246e7b2a",
   "metadata": {},
   "source": [
    "Według wyjaśnienia prawdopodobieństwo pozytywnego testu obniżał fakt, że pacjentka miała BMI poniżej 27,3, a podwyższała wartość funkcji obciążenia genetycznego większa od 0,626 i to, że pacjentka była w ciąży więcej niż 6 razy.\n",
    "\n",
    "Podejrzany wydaje się fakt, że mimo nadwagi zmienna mass obniżała tak znacznie ryzyko wystąpienia cukrzycy.\n",
    "Przyjrzyjmy się rozkładowi tej zmiennej."
   ]
  },
  {
   "cell_type": "code",
   "execution_count": null,
   "id": "0dc612d0",
   "metadata": {},
   "outputs": [],
   "source": [
    "boxplot(diabetes$mass, horizontal = TRUE)\n",
    "mean(diabetes$mass)"
   ]
  },
  {
   "cell_type": "markdown",
   "id": "590336d1",
   "metadata": {},
   "source": [
    "Średnia zmiennej mass wynosi prawie 32, co oznacza otyłość, zdarzają się też przypadki powyżej 40, co oznacza otyłość kliniczną.\n",
    "\n",
    "![BMI chart](BMI_chart.jfif)"
   ]
  },
  {
   "cell_type": "markdown",
   "id": "892f5981",
   "metadata": {},
   "source": [
    "Zatem nasza pacjentka na tym tle nie wypada tak źle.\n",
    "\n",
    "## LIME dla różnych obserwacji\n",
    "\n",
    "### Obserwacja 26"
   ]
  },
  {
   "cell_type": "code",
   "execution_count": null,
   "id": "c120e390",
   "metadata": {},
   "outputs": [],
   "source": [
    "diabetes[26,]"
   ]
  },
  {
   "cell_type": "markdown",
   "id": "2f4d0aa9",
   "metadata": {},
   "source": [
    "Pacjentka ma 41 lat, była w ciąży 10 razy, ma BMI 31,1 i chorowała na cukrzycę."
   ]
  },
  {
   "cell_type": "code",
   "execution_count": null,
   "id": "dd786428",
   "metadata": {},
   "outputs": [],
   "source": [
    "lime_ranger26 <- predict_surrogate(\n",
    "  explainer = explainer,\n",
    "  new_observation = diabetes[26,-9], \n",
    "  n_features = 3, \n",
    "  n_permutations = 1000,\n",
    "  type = \"lime\")\n",
    "\n",
    "plot(lime_ranger26)"
   ]
  },
  {
   "cell_type": "markdown",
   "id": "d69820d9",
   "metadata": {},
   "source": [
    "Tą pacjentkę model z prawdopodobieństwem 65% zaklasyfikowałby jako chorą, na co wpływa ponownie duża liczba ciąży oraz wiek powyżej 29 lat. Tym razem wartość funkcji obciążenia genetycznego jest jednak dość niska, co obniża prawdopodobieństwo wystąpienia cukrzycy.\n",
    "\n",
    "### Obserwacja 39"
   ]
  },
  {
   "cell_type": "code",
   "execution_count": null,
   "id": "c7d1e5ca",
   "metadata": {},
   "outputs": [],
   "source": [
    "diabetes[39,]"
   ]
  },
  {
   "cell_type": "markdown",
   "id": "f296a229",
   "metadata": {},
   "source": [
    "Pacjentka ma 27 lat, była w ciąży 2 razy, ma BMI 382, i chorowała na cukrzycę."
   ]
  },
  {
   "cell_type": "code",
   "execution_count": null,
   "id": "0d13e548",
   "metadata": {},
   "outputs": [],
   "source": [
    "lime_ranger39 <- predict_surrogate(\n",
    "  explainer = explainer,\n",
    "  new_observation = diabetes[39,-9], \n",
    "  n_features = 3, \n",
    "  n_permutations = 1000,\n",
    "  type = \"lime\")\n",
    "\n",
    "plot(lime_ranger39)"
   ]
  },
  {
   "cell_type": "markdown",
   "id": "5a5df2b4",
   "metadata": {},
   "source": [
    "U tej pacjentki model nieprawidłowo przewidział to, czy pacjentka jest chora, ale był całkiem blisko (43%). Prawdopodobieństwo to bardzo zwiększyło wysokie BMI, ale niemal równie mocno obniżył niskie stężenie glukozy (`plas`, średnia ok.120). Bardzo nieznacznie zmniejszyło je też to, że była w ciąży tylko 2 razy.\n",
    "\n",
    "### Obserwacja 52"
   ]
  },
  {
   "cell_type": "code",
   "execution_count": null,
   "id": "e30cb2db",
   "metadata": {},
   "outputs": [],
   "source": [
    "diabetes[52,]"
   ]
  }
 ],
 "metadata": {
  "kernelspec": {
   "display_name": "R",
   "language": "R",
   "name": "ir"
  },
  "language_info": {
   "codemirror_mode": "r",
   "file_extension": ".r",
   "mimetype": "text/x-r-source",
   "name": "R",
   "pygments_lexer": "r",
   "version": "3.6.1"
  }
 },
 "nbformat": 4,
 "nbformat_minor": 5
}
