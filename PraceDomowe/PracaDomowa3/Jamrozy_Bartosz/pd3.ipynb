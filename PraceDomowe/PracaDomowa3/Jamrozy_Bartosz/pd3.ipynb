{
 "cells": [
  {
   "cell_type": "markdown",
   "id": "central-giving",
   "metadata": {},
   "source": [
    "## Pd3 Jamroży Bartosz"
   ]
  },
  {
   "cell_type": "code",
   "execution_count": null,
   "id": "automotive-universe",
   "metadata": {},
   "outputs": [],
   "source": [
    "library(tidyverse)\n",
    "library(reshape2)\n",
    "\n",
    "\n",
    "library(DALEX)\n",
    "library(DALEXtra)\n",
    "\n",
    "\n",
    "options(warn=-1)"
   ]
  },
  {
   "cell_type": "markdown",
   "id": "british-occasions",
   "metadata": {},
   "source": [
    "Dane z: https://www.kaggle.com/camnugent/california-housing-prices"
   ]
  },
  {
   "cell_type": "code",
   "execution_count": 6,
   "id": "painful-norwegian",
   "metadata": {},
   "outputs": [],
   "source": [
    "house <- read.csv(file = 'housing.csv', stringsAsFactors = FALSE)"
   ]
  },
  {
   "cell_type": "markdown",
   "id": "domestic-arbitration",
   "metadata": {},
   "source": [
    "# Model\n",
    "przykładowy model z : https://www.kaggle.com/camnugent/introduction-to-machine-learning-in-r-tutorial"
   ]
  },
  {
   "cell_type": "code",
   "execution_count": null,
   "id": "color-burden",
   "metadata": {},
   "outputs": [],
   "source": [
    "library(tidyverse)\n",
    "library(reshape2)\n",
    "\n",
    "housing = read.csv(\"housing.csv\")\n",
    "\n",
    "# clean data\n",
    "housing$total_bedrooms[is.na(housing$total_bedrooms)] = median(housing$total_bedrooms , na.rm = TRUE)\n",
    "\n",
    "#Fix the total columns - make them means\n",
    "housing$mean_bedrooms = housing$total_bedrooms/housing$households\n",
    "housing$mean_rooms = housing$total_rooms/housing$households\n",
    "\n",
    "drops = c('total_bedrooms', 'total_rooms')\n",
    "housing = housing[ , !(names(housing) %in% drops)]\n",
    "\n",
    "#Turn categoricals into booleans\n",
    "categories = unique(housing$ocean_proximity)\n",
    "\n",
    "#split the categories off\n",
    "cat_housing = data.frame(ocean_proximity = housing$ocean_proximity)\n",
    "\n",
    "for(cat in categories){\n",
    "  cat_housing[,cat] = rep(0, times= nrow(cat_housing))\n",
    "}\n",
    "\n",
    "\n",
    "for(i in 1:length(cat_housing$ocean_proximity)){\n",
    "  cat = as.character(cat_housing$ocean_proximity[i])\n",
    "  cat_housing[,cat][i] = 1\n",
    "}\n",
    "\n",
    "cat_columns = names(cat_housing)\n",
    "keep_columns = cat_columns[cat_columns != 'ocean_proximity']\n",
    "cat_housing = select(cat_housing,one_of(keep_columns))\n",
    "\n",
    "#Scale the numerical variables\n",
    "\n",
    "drops = c('ocean_proximity','median_house_value')\n",
    "housing_num =  housing[ , !(names(housing) %in% drops)]\n",
    "\n",
    "scaled_housing_num = scale(housing_num)\n",
    "\n",
    "#Merge the altered numerical and categorical dataframes\n",
    "cleaned_housing = cbind(cat_housing, scaled_housing_num, median_house_value=housing$median_house_value)\n",
    "\n",
    "\n",
    "# Create a test set of data\n",
    "\n",
    "set.seed(1738) # Set a random seed so that same sample can be reproduced in future runs\n",
    "\n",
    "sample = sample.int(n = nrow(cleaned_housing), size = floor(.8*nrow(cleaned_housing)), replace = F)\n",
    "train = cleaned_housing[sample, ] #just the samples\n",
    "test  = cleaned_housing[-sample, ] #everything but the samples\n",
    "\n",
    "#Random forest model\n",
    "library('randomForest')\n",
    "\n",
    "set.seed(1738)\n",
    "\n",
    "train_y = train[,'median_house_value']\n",
    "train_x = train[, names(train) !='median_house_value']\n",
    "\n",
    "rf_model = randomForest(train_x, y = train_y , ntree = 500, importance = TRUE)\n"
   ]
  },
  {
   "cell_type": "markdown",
   "id": "dedicated-transaction",
   "metadata": {},
   "source": [
    "### Tworzenie explainera\n",
    "W tym zadaniu używam zbioru treningowego."
   ]
  },
  {
   "cell_type": "code",
   "execution_count": 8,
   "id": "corporate-comfort",
   "metadata": {},
   "outputs": [
    {
     "name": "stdout",
     "output_type": "stream",
     "text": [
      "Preparation of a new explainer is initiated\n",
      "  -> model label       :  randomForest  ( \u001b[33m default \u001b[39m )\n",
      "  -> data              :  16512  rows  13  cols \n",
      "  -> target variable   :  16512  values \n",
      "  -> predict function  :  yhat.randomForest  will be used ( \u001b[33m default \u001b[39m )\n",
      "  -> predicted values  :  No value for predict function target column. ( \u001b[33m default \u001b[39m )\n",
      "  -> model_info        :  package randomForest , ver. 4.6.14 , task regression ( \u001b[33m default \u001b[39m ) \n",
      "  -> predicted values  :  numerical, min =  39702.65 , mean =  206688.3 , max =  499518.2  \n",
      "  -> residual function :  difference between y and yhat ( \u001b[33m default \u001b[39m )\n",
      "  -> residuals         :  numerical, min =  -126586.5 , mean =  -173.9163 , max =  195986.5  \n",
      " \u001b[32m A new explainer has been created! \u001b[39m \n"
     ]
    }
   ],
   "source": [
    "rf_model_expain <- DALEX::explain(model = rf_model, data=train_x, y=train_y)"
   ]
  },
  {
   "cell_type": "markdown",
   "id": "massive-spice",
   "metadata": {},
   "source": [
    "## Przykładowa predykcja"
   ]
  },
  {
   "cell_type": "markdown",
   "id": "aerial-sunrise",
   "metadata": {},
   "source": [
    "Predykcja dla setnej obserwacji:"
   ]
  },
  {
   "cell_type": "code",
   "execution_count": 9,
   "id": "inside-berkeley",
   "metadata": {},
   "outputs": [
    {
     "data": {
      "text/html": [
       "<strong>14117:</strong> 110367.453182426"
      ],
      "text/latex": [
       "\\textbf{14117:} 110367.453182426"
      ],
      "text/markdown": [
       "**14117:** 110367.453182426"
      ],
      "text/plain": [
       "   14117 \n",
       "110367.5 "
      ]
     },
     "metadata": {},
     "output_type": "display_data"
    }
   ],
   "source": [
    "predict(rf_model,train_x[100,])"
   ]
  },
  {
   "cell_type": "markdown",
   "id": "initial-climate",
   "metadata": {},
   "source": [
    "Wartość rzeczywista:"
   ]
  },
  {
   "cell_type": "code",
   "execution_count": 10,
   "id": "quality-payroll",
   "metadata": {},
   "outputs": [
    {
     "data": {
      "text/html": [
       "102900"
      ],
      "text/latex": [
       "102900"
      ],
      "text/markdown": [
       "102900"
      ],
      "text/plain": [
       "[1] 102900"
      ]
     },
     "metadata": {},
     "output_type": "display_data"
    }
   ],
   "source": [
    "train_y[100]"
   ]
  },
  {
   "cell_type": "markdown",
   "id": "mathematical-valuable",
   "metadata": {},
   "source": [
    "Dla obserwacji numer 100 ze zbioru treningowego model wyznaczył cenę nieruchomości na ok 110367 wobec rzeczywistej wartości 102900, myląc się o mniej niż 8%."
   ]
  },
  {
   "cell_type": "markdown",
   "id": "representative-amplifier",
   "metadata": {},
   "source": [
    "## Dekompozycja Ceteris Paribus "
   ]
  },
  {
   "cell_type": "code",
   "execution_count": 12,
   "id": "taken-comedy",
   "metadata": {},
   "outputs": [
    {
     "data": {
      "image/png": "[encoded data removed]",
      "text/plain": [
       "plot without title"
      ]
     },
     "metadata": {},
     "output_type": "display_data"
    }
   ],
   "source": [
    "cp_100 <- predict_profile(rf_model_expain,\n",
    "                          train[100,],\n",
    "                         grid_points = 101)\n",
    "plot(cp_100)"
   ]
  },
  {
   "cell_type": "markdown",
   "id": "disciplinary-meeting",
   "metadata": {},
   "source": [
    "Podczas przygotowywania  danych zmienna kategoryczna ocean_proximity została rozdzielona poprzez one hot encoding na 5 osobnych kolumn ('NEAR BAY' '<1H OCEAN' 'INLAND' 'NEAR OCEAN' 'ISLAND')  Ceteris Paribus traktuje je jako zmienne ciągłe wyliczając dla nich z osobna wyniki. Podejście to tworzy patologiczne przypadki ,które nie wystąpią w naszych danych  np. nieruchomość należącą jednocześnie blisko oceanu i daleko oceanu \n",
    "\n",
    "Najbardziej znaczące dla modemu była długość seraficzna oraz mediana dochodów (zmiany tych parametrów najbardziej wpływały na przewidywania)\n",
    "\n",
    "Widać dwie cechy mające największy wpływ na predykcje modelu, „median income” oraz longnitude.\n",
    "Im w bogatszej okolicy znajduje się dom tym droższy jest. Połącznie to wydaje się jak najbardziej logiczne, zamożniejszy ludzie mogą pozwolić sobie na droższe nieruchomości, a te często zgrupowane danych dzielnicach \n",
    "\n",
    "Ciekawe zachowanie przybiera także zmienna wieku domu, droższe są domy stare i bardzo młode"
   ]
  },
  {
   "cell_type": "code",
   "execution_count": 14,
   "id": "initial-youth",
   "metadata": {},
   "outputs": [
    {
     "data": {
      "image/png": "[encoded data removed]",
      "text/plain": [
       "plot without title"
      ]
     },
     "metadata": {},
     "output_type": "display_data"
    }
   ],
   "source": [
    "cp_400 <- predict_profile(rf_model_expain,\n",
    "                          train_x[400,],\n",
    "                         grid_points = 101)\n",
    "plot(cp_400)"
   ]
  },
  {
   "cell_type": "markdown",
   "id": "conceptual-highway",
   "metadata": {},
   "source": [
    "Dla następnej nieruchomości dochód mieszkańców ma bardzo podobny wpływ.\n",
    "\n",
    "Jednak na oba przewidywania odmiennie wpływa szerokość geograficzna. Dla pierwszej obserwacji największy pozytywny wpływ miała przy środkowej wartości, w przypadku drugim były to małe wartości. Może to wynikać z nierównomiernego rozłożenia nieruchomości \n",
    "\n",
    "Spora różnica występuje także  przypadku wieku nierychłości, dla drugiej obserwacji zdecydowanie promowane są starsze dzielnice,  gdzie poprzednio raczej nie miało to znaczenia \n",
    "\n",
    "Dziwny jest natomiast zupełnie odwrotny wpływ liczby mieszkańców, raz wiesza liczba ludność podwyższała wartości nieruchomości, a raz obniżała. Nie widzę tutaj żadnego racjonalnego wytłumaczenia"
   ]
  },
  {
   "cell_type": "markdown",
   "id": "tight-breach",
   "metadata": {},
   "source": [
    "## Wnioski\n",
    "Z powodu używania przez model one hot encoding Ceteris Paribus potrafi pokazywać dziwne przypadki. Paribus wskazuje jako najważniejszą cechę mediany dochodu, tak jak Break Down oraz metoda lime. Jednak dla innych cech wykresy są mało mówiące."
   ]
  }
 ],
 "metadata": {
  "kernelspec": {
   "display_name": "R",
   "language": "R",
   "name": "ir"
  },
  "language_info": {
   "codemirror_mode": "r",
   "file_extension": ".r",
   "mimetype": "text/x-r-source",
   "name": "R",
   "pygments_lexer": "r",
   "version": "3.6.1"
  }
 },
 "nbformat": 4,
 "nbformat_minor": 5
}
