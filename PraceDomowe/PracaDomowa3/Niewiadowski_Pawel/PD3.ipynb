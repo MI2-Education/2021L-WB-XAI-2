{
 "cells": [
  {
   "cell_type": "markdown",
   "metadata": {},
   "source": [
    "Praca domowa 3 (8 pkt.)\n",
    "Termin: 15.04.2021 15:00\n",
    "\n",
    "Dla wybranego modelu przygotuj knitr/jupyter notebook w formacie html lub pdf rozwiązując poniższe punkty. Pracę domową należy zgłosić przez Pull Request na GitHub w folderze PraceDomowe/PracaDomowa3/Nazwisko_Imię.\n",
    "\n",
    "    Dla wybranej obserwacji ze zbioru danych wylicz predykcję modelu.\n",
    "    Dla wybranej obserwacji z punktu 1., wylicz dekompozycję predykcji modelu używając profili Ceteris Paribus/ ICE (pakiety w R: DALEX, ALEPlot, ingredients, pakiety w Python: dalex, pyCeterisParibus)\n",
    "    Wybierz dwie obserwacje ze zbioru danych, które mają różne profile CP (na przykład: dla obserwacji A odpowiedź modelu rośnie wraz ze wzrostem wartości zmiennej, a dla obserwacji B maleje). Zauważ, żeby mieć takie różnice, musisz mieć model z interakcjami.\n",
    "    Skomentuj poszczególne wyniki uzyskane w powyższych punktach.\n",
    "\n",
    "W pracy domowej oceniane przede wszystkim będą wnioski z otrzymanych analiz. Kod potrzebny do reprudokowalności wyników również proszę załączyć.\n",
    "\n",
    "Prace domowe należy zgłaszać przez Pull Request o tytule Nazwisko Imię PD3. Wszystkie pliki związane z pracą domową proszę o umieszczenie w folderze Nazwisko_Imię"
   ]
  },
  {
   "cell_type": "code",
   "execution_count": null,
   "metadata": {},
   "outputs": [],
   "source": [
    "suppressWarnings(suppressMessages(library(OpenML)))\n",
    "suppressWarnings(suppressMessages(library(mlr)))\n",
    "suppressWarnings(suppressMessages(library(pROC)))\n",
    "suppressWarnings(suppressMessages(library(plyr)))\n",
    "suppressWarnings(suppressMessages(library(DALEX)))\n",
    "suppressWarnings(suppressMessages(library(DALEXtra)))\n",
    "\n",
    "set.seed(7)"
   ]
  },
  {
   "cell_type": "code",
   "execution_count": null,
   "metadata": {},
   "outputs": [],
   "source": [
    "def <- read.csv(\"diabetes.csv\")\n",
    "\n",
    "def$class[def$class == \"tested_positive\"] <- 1\n",
    "def$class[def$class == \"tested_negative\"] <- 0\n",
    "head(def)"
   ]
  },
  {
   "cell_type": "code",
   "execution_count": null,
   "metadata": {},
   "outputs": [],
   "source": [
    "m <- sample(1:nrow(def), 0.7*nrow(def))\n",
    "train <- def[m,]\n",
    "test <- def[-m,]"
   ]
  },
  {
   "cell_type": "code",
   "execution_count": null,
   "metadata": {},
   "outputs": [],
   "source": [
    "classif_task <- makeClassifTask(data = train, target = \"class\")\n",
    "\n",
    "classif_lrn <- makeLearner(\"classif.svm\", predict.type = \"prob\")"
   ]
  },
  {
   "cell_type": "code",
   "execution_count": null,
   "metadata": {},
   "outputs": [],
   "source": [
    "model <- train(classif_lrn, classif_task)"
   ]
  },
  {
   "cell_type": "markdown",
   "metadata": {},
   "source": [
    "#     Dla wybranej obserwacji ze zbioru danych wylicz predykcję modelu."
   ]
  },
  {
   "cell_type": "code",
   "execution_count": null,
   "metadata": {},
   "outputs": [],
   "source": [
    "r <- test[sample(1:nrow(test), 1),]\n",
    "r"
   ]
  },
  {
   "cell_type": "code",
   "execution_count": null,
   "metadata": {},
   "outputs": [],
   "source": [
    "pred_r <- predict(model, newdata = r)$data$prob.1\n",
    "pred_r"
   ]
  },
  {
   "cell_type": "markdown",
   "metadata": {},
   "source": [
    "Model przewiduje dobrze tę obserwację"
   ]
  },
  {
   "cell_type": "markdown",
   "metadata": {},
   "source": [
    "#     Dla wybranej obserwacji z punktu 1., wylicz dekompozycję predykcji modelu używając profili Ceteris Paribus/ ICE\n"
   ]
  },
  {
   "cell_type": "code",
   "execution_count": null,
   "metadata": {},
   "outputs": [],
   "source": [
    "explainer <- explain(model = model,\n",
    "                     data = def[,-9],\n",
    "                     y = as.numeric(as.character(def$class)))"
   ]
  },
  {
   "cell_type": "code",
   "execution_count": null,
   "metadata": {},
   "outputs": [],
   "source": [
    "parib <- predict_profile(explainer, r[, -9])\n",
    "plot(parib)"
   ]
  },
  {
   "cell_type": "markdown",
   "metadata": {},
   "source": [
    "Wartości zmiennych dla tej obserwacji i ich położenie na grafach wskazują na wysokie prawdopodobieństwo wystąpienia cukrzycy. W tym przypadku (lokalnym) liczba ciąż nie wpływa znacznie na predykcję modelu. Natomiast zmienne tj. age, insu, mass i plas w zależności od wartości mogą znacznie wpływać na predykcję. Niskie mass i plas zmniejszają prawdopodobieństwo gdy są nieduże, age i insu przeciwnie."
   ]
  },
  {
   "cell_type": "markdown",
   "metadata": {},
   "source": [
    "#    Wybierz dwie obserwacje ze zbioru danych, które mają różne profile CP"
   ]
  },
  {
   "cell_type": "code",
   "execution_count": null,
   "metadata": {},
   "outputs": [],
   "source": [
    "paribA <- predict_profile(explainer, def[3, -9])\n",
    "paribB <- predict_profile(explainer, def[5, -9])\n",
    "plot(paribA,variables = \"pedi\")\n",
    "plot(paribB,variables = \"pedi\")"
   ]
  },
  {
   "cell_type": "code",
   "execution_count": null,
   "metadata": {},
   "outputs": [],
   "source": [
    "paribA <- predict_profile(explainer, def[616, -9])\n",
    "paribB <- predict_profile(explainer, def[356, -9])\n",
    "plot(paribA,variables = \"preg\")\n",
    "plot(paribB,variables = \"preg\")"
   ]
  },
  {
   "cell_type": "markdown",
   "metadata": {},
   "source": [
    "W pierwszym przykładzie wzrost zmiennej pedi a w drugim zmiennej preg wpływa odwrotnie na dane obserwacje. Dzieje się tak najprawdopodobniej z powodu różnych wartości pozostałych zmienneych w tych obserwacjach. Mogą one wchodzić w interakcję z interesującymi nas zmiennymi i przez to np. duża liczba ciąż różnie wpływa na predykcję w zależności od wartości innych zmiennych"
   ]
  },
  {
   "cell_type": "code",
   "execution_count": null,
   "metadata": {},
   "outputs": [],
   "source": [
    "def[3, ]\n",
    "def[5, ]"
   ]
  },
  {
   "cell_type": "code",
   "execution_count": null,
   "metadata": {},
   "outputs": [],
   "source": [
    "def[616,]\n",
    "def[356,]"
   ]
  }
 ],
 "metadata": {
  "kernelspec": {
   "display_name": "R",
   "language": "R",
   "name": "ir"
  },
  "language_info": {
   "codemirror_mode": "r",
   "file_extension": ".r",
   "mimetype": "text/x-r-source",
   "name": "R",
   "pygments_lexer": "r",
   "version": "4.0.3"
  }
 },
 "nbformat": 4,
 "nbformat_minor": 4
}
