{
 "cells": [
  {
   "cell_type": "markdown",
   "id": "introductory-poker",
   "metadata": {},
   "source": [
    "# Pd1"
   ]
  },
  {
   "cell_type": "code",
   "execution_count": 73,
   "id": "still-member",
   "metadata": {},
   "outputs": [],
   "source": [
    "library(tidyverse)\n",
    "library(reshape2)\n"
   ]
  },
  {
   "cell_type": "markdown",
   "id": "southern-viewer",
   "metadata": {},
   "source": [
    "## Dane\n",
    "z: https://www.kaggle.com/camnugent/california-housing-prices"
   ]
  },
  {
   "cell_type": "code",
   "execution_count": 13,
   "id": "enhanced-chamber",
   "metadata": {},
   "outputs": [
    {
     "data": {
      "text/html": [
       "<table>\n",
       "<thead><tr><th scope=col>longitude</th><th scope=col>latitude</th><th scope=col>housing_median_age</th><th scope=col>total_rooms</th><th scope=col>total_bedrooms</th><th scope=col>population</th><th scope=col>households</th><th scope=col>median_income</th><th scope=col>median_house_value</th><th scope=col>ocean_proximity</th></tr></thead>\n",
       "<tbody>\n",
       "\t<tr><td>-122.23 </td><td>37.88   </td><td>41      </td><td> 880    </td><td> 129    </td><td> 322    </td><td> 126    </td><td>8.3252  </td><td>452600  </td><td>NEAR BAY</td></tr>\n",
       "\t<tr><td>-122.22 </td><td>37.86   </td><td>21      </td><td>7099    </td><td>1106    </td><td>2401    </td><td>1138    </td><td>8.3014  </td><td>358500  </td><td>NEAR BAY</td></tr>\n",
       "\t<tr><td>-122.24 </td><td>37.85   </td><td>52      </td><td>1467    </td><td> 190    </td><td> 496    </td><td> 177    </td><td>7.2574  </td><td>352100  </td><td>NEAR BAY</td></tr>\n",
       "\t<tr><td>-122.25 </td><td>37.85   </td><td>52      </td><td>1274    </td><td> 235    </td><td> 558    </td><td> 219    </td><td>5.6431  </td><td>341300  </td><td>NEAR BAY</td></tr>\n",
       "\t<tr><td>-122.25 </td><td>37.85   </td><td>52      </td><td>1627    </td><td> 280    </td><td> 565    </td><td> 259    </td><td>3.8462  </td><td>342200  </td><td>NEAR BAY</td></tr>\n",
       "\t<tr><td>-122.25 </td><td>37.85   </td><td>52      </td><td> 919    </td><td> 213    </td><td> 413    </td><td> 193    </td><td>4.0368  </td><td>269700  </td><td>NEAR BAY</td></tr>\n",
       "</tbody>\n",
       "</table>\n"
      ],
      "text/latex": [
       "\\begin{tabular}{r|llllllllll}\n",
       " longitude & latitude & housing\\_median\\_age & total\\_rooms & total\\_bedrooms & population & households & median\\_income & median\\_house\\_value & ocean\\_proximity\\\\\n",
       "\\hline\n",
       "\t -122.23  & 37.88    & 41       &  880     &  129     &  322     &  126     & 8.3252   & 452600   & NEAR BAY\\\\\n",
       "\t -122.22  & 37.86    & 21       & 7099     & 1106     & 2401     & 1138     & 8.3014   & 358500   & NEAR BAY\\\\\n",
       "\t -122.24  & 37.85    & 52       & 1467     &  190     &  496     &  177     & 7.2574   & 352100   & NEAR BAY\\\\\n",
       "\t -122.25  & 37.85    & 52       & 1274     &  235     &  558     &  219     & 5.6431   & 341300   & NEAR BAY\\\\\n",
       "\t -122.25  & 37.85    & 52       & 1627     &  280     &  565     &  259     & 3.8462   & 342200   & NEAR BAY\\\\\n",
       "\t -122.25  & 37.85    & 52       &  919     &  213     &  413     &  193     & 4.0368   & 269700   & NEAR BAY\\\\\n",
       "\\end{tabular}\n"
      ],
      "text/markdown": [
       "\n",
       "| longitude | latitude | housing_median_age | total_rooms | total_bedrooms | population | households | median_income | median_house_value | ocean_proximity |\n",
       "|---|---|---|---|---|---|---|---|---|---|\n",
       "| -122.23  | 37.88    | 41       |  880     |  129     |  322     |  126     | 8.3252   | 452600   | NEAR BAY |\n",
       "| -122.22  | 37.86    | 21       | 7099     | 1106     | 2401     | 1138     | 8.3014   | 358500   | NEAR BAY |\n",
       "| -122.24  | 37.85    | 52       | 1467     |  190     |  496     |  177     | 7.2574   | 352100   | NEAR BAY |\n",
       "| -122.25  | 37.85    | 52       | 1274     |  235     |  558     |  219     | 5.6431   | 341300   | NEAR BAY |\n",
       "| -122.25  | 37.85    | 52       | 1627     |  280     |  565     |  259     | 3.8462   | 342200   | NEAR BAY |\n",
       "| -122.25  | 37.85    | 52       |  919     |  213     |  413     |  193     | 4.0368   | 269700   | NEAR BAY |\n",
       "\n"
      ],
      "text/plain": [
       "  longitude latitude housing_median_age total_rooms total_bedrooms population\n",
       "1 -122.23   37.88    41                  880         129            322      \n",
       "2 -122.22   37.86    21                 7099        1106           2401      \n",
       "3 -122.24   37.85    52                 1467         190            496      \n",
       "4 -122.25   37.85    52                 1274         235            558      \n",
       "5 -122.25   37.85    52                 1627         280            565      \n",
       "6 -122.25   37.85    52                  919         213            413      \n",
       "  households median_income median_house_value ocean_proximity\n",
       "1  126       8.3252        452600             NEAR BAY       \n",
       "2 1138       8.3014        358500             NEAR BAY       \n",
       "3  177       7.2574        352100             NEAR BAY       \n",
       "4  219       5.6431        341300             NEAR BAY       \n",
       "5  259       3.8462        342200             NEAR BAY       \n",
       "6  193       4.0368        269700             NEAR BAY       "
      ]
     },
     "metadata": {},
     "output_type": "display_data"
    },
    {
     "data": {
      "text/html": [
       "20640"
      ],
      "text/latex": [
       "20640"
      ],
      "text/markdown": [
       "20640"
      ],
      "text/plain": [
       "[1] 20640"
      ]
     },
     "metadata": {},
     "output_type": "display_data"
    }
   ],
   "source": [
    "house <- read.csv(file = 'housing.csv', stringsAsFactors = FALSE)\n",
    "head(house)\n",
    "nrow(house)"
   ]
  },
  {
   "cell_type": "markdown",
   "id": "fitting-oxide",
   "metadata": {},
   "source": [
    "## Opis\n",
    "1. longitude: A measure of how far west a house is; a higher value is farther west\n",
    "\n",
    "2. latitude: A measure of how far north a house is; a higher value is farther north\n",
    "\n",
    "3. housingMedianAge: Median age of a house within a block; a lower number is a newer building\n",
    "\n",
    "4. totalRooms: Total number of rooms within a block\n",
    "\n",
    "5. totalBedrooms: Total number of bedrooms within a block\n",
    "\n",
    "6. population: Total number of people residing within a block\n",
    "\n",
    "7. households: Total number of households, a group of people residing within a home unit, for a block\n",
    "\n",
    "8. medianIncome: Median income for households within a block of houses (measured in tens of thousands of US Dollars)\n",
    "\n",
    "9. medianHouseValue: Median house value for households within a block (measured in US Dollars)\n",
    "\n",
    "10. oceanProximity: Location of the house w.r.t ocean/sea"
   ]
  },
  {
   "cell_type": "code",
   "execution_count": 8,
   "id": "periodic-debut",
   "metadata": {},
   "outputs": [
    {
     "data": {
      "text/plain": [
       "   longitude         latitude     housing_median_age  total_rooms   \n",
       " Min.   :-124.3   Min.   :32.54   Min.   : 1.00      Min.   :    2  \n",
       " 1st Qu.:-121.8   1st Qu.:33.93   1st Qu.:18.00      1st Qu.: 1448  \n",
       " Median :-118.5   Median :34.26   Median :29.00      Median : 2127  \n",
       " Mean   :-119.6   Mean   :35.63   Mean   :28.64      Mean   : 2636  \n",
       " 3rd Qu.:-118.0   3rd Qu.:37.71   3rd Qu.:37.00      3rd Qu.: 3148  \n",
       " Max.   :-114.3   Max.   :41.95   Max.   :52.00      Max.   :39320  \n",
       "                                                                    \n",
       " total_bedrooms     population      households     median_income    \n",
       " Min.   :   1.0   Min.   :    3   Min.   :   1.0   Min.   : 0.4999  \n",
       " 1st Qu.: 296.0   1st Qu.:  787   1st Qu.: 280.0   1st Qu.: 2.5634  \n",
       " Median : 435.0   Median : 1166   Median : 409.0   Median : 3.5348  \n",
       " Mean   : 537.9   Mean   : 1425   Mean   : 499.5   Mean   : 3.8707  \n",
       " 3rd Qu.: 647.0   3rd Qu.: 1725   3rd Qu.: 605.0   3rd Qu.: 4.7432  \n",
       " Max.   :6445.0   Max.   :35682   Max.   :6082.0   Max.   :15.0001  \n",
       " NA's   :207                                                        \n",
       " median_house_value ocean_proximity   \n",
       " Min.   : 14999     Length:20640      \n",
       " 1st Qu.:119600     Class :character  \n",
       " Median :179700     Mode  :character  \n",
       " Mean   :206856                       \n",
       " 3rd Qu.:264725                       \n",
       " Max.   :500001                       \n",
       "                                      "
      ]
     },
     "metadata": {},
     "output_type": "display_data"
    }
   ],
   "source": [
    "summary(house)"
   ]
  },
  {
   "cell_type": "markdown",
   "id": "statewide-consultancy",
   "metadata": {},
   "source": [
    "total_bedrooms posiada 207 brakójących wartosci ok 1% całości, oraz jedną kolumne kategoryczną ocean_proximity\n"
   ]
  },
  {
   "cell_type": "markdown",
   "id": "driven-relationship",
   "metadata": {},
   "source": [
    "# Model\n"
   ]
  },
  {
   "cell_type": "markdown",
   "id": "completed-moscow",
   "metadata": {},
   "source": [
    "przykładowy model z : https://www.kaggle.com/camnugent/introduction-to-machine-learning-in-r-tutorial"
   ]
  },
  {
   "cell_type": "code",
   "execution_count": 75,
   "id": "affected-bread",
   "metadata": {},
   "outputs": [
    {
     "data": {
      "text/html": [
       "<ol class=list-inline>\n",
       "\t<li>'call'</li>\n",
       "\t<li>'type'</li>\n",
       "\t<li>'predicted'</li>\n",
       "\t<li>'mse'</li>\n",
       "\t<li>'rsq'</li>\n",
       "\t<li>'oob.times'</li>\n",
       "\t<li>'importance'</li>\n",
       "\t<li>'importanceSD'</li>\n",
       "\t<li>'localImportance'</li>\n",
       "\t<li>'proximity'</li>\n",
       "\t<li>'ntree'</li>\n",
       "\t<li>'mtry'</li>\n",
       "\t<li>'forest'</li>\n",
       "\t<li>'coefs'</li>\n",
       "\t<li>'y'</li>\n",
       "\t<li>'test'</li>\n",
       "\t<li>'inbag'</li>\n",
       "</ol>\n"
      ],
      "text/latex": [
       "\\begin{enumerate*}\n",
       "\\item 'call'\n",
       "\\item 'type'\n",
       "\\item 'predicted'\n",
       "\\item 'mse'\n",
       "\\item 'rsq'\n",
       "\\item 'oob.times'\n",
       "\\item 'importance'\n",
       "\\item 'importanceSD'\n",
       "\\item 'localImportance'\n",
       "\\item 'proximity'\n",
       "\\item 'ntree'\n",
       "\\item 'mtry'\n",
       "\\item 'forest'\n",
       "\\item 'coefs'\n",
       "\\item 'y'\n",
       "\\item 'test'\n",
       "\\item 'inbag'\n",
       "\\end{enumerate*}\n"
      ],
      "text/markdown": [
       "1. 'call'\n",
       "2. 'type'\n",
       "3. 'predicted'\n",
       "4. 'mse'\n",
       "5. 'rsq'\n",
       "6. 'oob.times'\n",
       "7. 'importance'\n",
       "8. 'importanceSD'\n",
       "9. 'localImportance'\n",
       "10. 'proximity'\n",
       "11. 'ntree'\n",
       "12. 'mtry'\n",
       "13. 'forest'\n",
       "14. 'coefs'\n",
       "15. 'y'\n",
       "16. 'test'\n",
       "17. 'inbag'\n",
       "\n",
       "\n"
      ],
      "text/plain": [
       " [1] \"call\"            \"type\"            \"predicted\"       \"mse\"            \n",
       " [5] \"rsq\"             \"oob.times\"       \"importance\"      \"importanceSD\"   \n",
       " [9] \"localImportance\" \"proximity\"       \"ntree\"           \"mtry\"           \n",
       "[13] \"forest\"          \"coefs\"           \"y\"               \"test\"           \n",
       "[17] \"inbag\"          "
      ]
     },
     "metadata": {},
     "output_type": "display_data"
    },
    {
     "data": {
      "text/html": [
       "<table>\n",
       "<thead><tr><th></th><th scope=col>%IncMSE</th><th scope=col>IncNodePurity</th></tr></thead>\n",
       "<tbody>\n",
       "\t<tr><th scope=row>NEAR BAY</th><td> 486443080  </td><td>1.312625e+12</td></tr>\n",
       "\t<tr><th scope=row>&lt;1H OCEAN</th><td>1621072507  </td><td>4.289632e+12</td></tr>\n",
       "\t<tr><th scope=row>INLAND</th><td>4045427703  </td><td>3.068877e+13</td></tr>\n",
       "\t<tr><th scope=row>NEAR OCEAN</th><td> 539828604  </td><td>2.299546e+12</td></tr>\n",
       "\t<tr><th scope=row>ISLAND</th><td>   1524086  </td><td>6.496858e+10</td></tr>\n",
       "\t<tr><th scope=row>longitude</th><td>6897270047  </td><td>2.572075e+13</td></tr>\n",
       "\t<tr><th scope=row>latitude</th><td>5710904041  </td><td>2.255767e+13</td></tr>\n",
       "\t<tr><th scope=row>housing_median_age</th><td>1082226582  </td><td>9.661389e+12</td></tr>\n",
       "\t<tr><th scope=row>population</th><td>1066423080  </td><td>7.341037e+12</td></tr>\n",
       "\t<tr><th scope=row>households</th><td>1193112832  </td><td>7.923472e+12</td></tr>\n",
       "\t<tr><th scope=row>median_income</th><td>8486026742  </td><td>7.325002e+13</td></tr>\n",
       "\t<tr><th scope=row>mean_bedrooms</th><td> 402648032  </td><td>7.555405e+12</td></tr>\n",
       "\t<tr><th scope=row>mean_rooms</th><td>1820857979  </td><td>2.120577e+13</td></tr>\n",
       "</tbody>\n",
       "</table>\n"
      ],
      "text/latex": [
       "\\begin{tabular}{r|ll}\n",
       "  & \\%IncMSE & IncNodePurity\\\\\n",
       "\\hline\n",
       "\tNEAR BAY &  486443080   & 1.312625e+12\\\\\n",
       "\t<1H OCEAN & 1621072507   & 4.289632e+12\\\\\n",
       "\tINLAND & 4045427703   & 3.068877e+13\\\\\n",
       "\tNEAR OCEAN &  539828604   & 2.299546e+12\\\\\n",
       "\tISLAND &    1524086   & 6.496858e+10\\\\\n",
       "\tlongitude & 6897270047   & 2.572075e+13\\\\\n",
       "\tlatitude & 5710904041   & 2.255767e+13\\\\\n",
       "\thousing\\_median\\_age & 1082226582   & 9.661389e+12\\\\\n",
       "\tpopulation & 1066423080   & 7.341037e+12\\\\\n",
       "\thouseholds & 1193112832   & 7.923472e+12\\\\\n",
       "\tmedian\\_income & 8486026742   & 7.325002e+13\\\\\n",
       "\tmean\\_bedrooms &  402648032   & 7.555405e+12\\\\\n",
       "\tmean\\_rooms & 1820857979   & 2.120577e+13\\\\\n",
       "\\end{tabular}\n"
      ],
      "text/markdown": [
       "\n",
       "| <!--/--> | %IncMSE | IncNodePurity |\n",
       "|---|---|---|\n",
       "| NEAR BAY |  486443080   | 1.312625e+12 |\n",
       "| <1H OCEAN | 1621072507   | 4.289632e+12 |\n",
       "| INLAND | 4045427703   | 3.068877e+13 |\n",
       "| NEAR OCEAN |  539828604   | 2.299546e+12 |\n",
       "| ISLAND |    1524086   | 6.496858e+10 |\n",
       "| longitude | 6897270047   | 2.572075e+13 |\n",
       "| latitude | 5710904041   | 2.255767e+13 |\n",
       "| housing_median_age | 1082226582   | 9.661389e+12 |\n",
       "| population | 1066423080   | 7.341037e+12 |\n",
       "| households | 1193112832   | 7.923472e+12 |\n",
       "| median_income | 8486026742   | 7.325002e+13 |\n",
       "| mean_bedrooms |  402648032   | 7.555405e+12 |\n",
       "| mean_rooms | 1820857979   | 2.120577e+13 |\n",
       "\n"
      ],
      "text/plain": [
       "                   %IncMSE    IncNodePurity\n",
       "NEAR BAY            486443080 1.312625e+12 \n",
       "<1H OCEAN          1621072507 4.289632e+12 \n",
       "INLAND             4045427703 3.068877e+13 \n",
       "NEAR OCEAN          539828604 2.299546e+12 \n",
       "ISLAND                1524086 6.496858e+10 \n",
       "longitude          6897270047 2.572075e+13 \n",
       "latitude           5710904041 2.255767e+13 \n",
       "housing_median_age 1082226582 9.661389e+12 \n",
       "population         1066423080 7.341037e+12 \n",
       "households         1193112832 7.923472e+12 \n",
       "median_income      8486026742 7.325002e+13 \n",
       "mean_bedrooms       402648032 7.555405e+12 \n",
       "mean_rooms         1820857979 2.120577e+13 "
      ]
     },
     "metadata": {},
     "output_type": "display_data"
    }
   ],
   "source": [
    "library(tidyverse)\n",
    "library(reshape2)\n",
    "\n",
    "housing = read.csv(\"housing.csv\")\n",
    "\n",
    "# head(housing)\n",
    "# summary(housing)\n",
    "par(mfrow=c(2,5))\n",
    "# colnames(housing)\n",
    "# ggplot(data = melt(housing), mapping = aes(x = value)) + geom_histogram(bins = 30) + facet_wrap(~variable, scales = 'free_x')\n",
    "\n",
    "# clean data\n",
    "housing$total_bedrooms[is.na(housing$total_bedrooms)] = median(housing$total_bedrooms , na.rm = TRUE)\n",
    "\n",
    "#Fix the total columns - make them means\n",
    "housing$mean_bedrooms = housing$total_bedrooms/housing$households\n",
    "housing$mean_rooms = housing$total_rooms/housing$households\n",
    "\n",
    "drops = c('total_bedrooms', 'total_rooms')\n",
    "housing = housing[ , !(names(housing) %in% drops)]\n",
    "# head(housing)\n",
    "\n",
    "#Turn categoricals into booleans\n",
    "categories = unique(housing$ocean_proximity)\n",
    "\n",
    "#split the categories off\n",
    "cat_housing = data.frame(ocean_proximity = housing$ocean_proximity)\n",
    "\n",
    "for(cat in categories){\n",
    "  cat_housing[,cat] = rep(0, times= nrow(cat_housing))\n",
    "}\n",
    "\n",
    "# head(cat_housing) #see the new columns on the right\n",
    "\n",
    "for(i in 1:length(cat_housing$ocean_proximity)){\n",
    "  cat = as.character(cat_housing$ocean_proximity[i])\n",
    "  cat_housing[,cat][i] = 1\n",
    "}\n",
    "# head(cat_housing)\n",
    "\n",
    "cat_columns = names(cat_housing)\n",
    "keep_columns = cat_columns[cat_columns != 'ocean_proximity']\n",
    "cat_housing = select(cat_housing,one_of(keep_columns))\n",
    "# tail(cat_housing)\n",
    "\n",
    "#Scale the numerical variables\n",
    "\n",
    "# colnames(housing)\n",
    "drops = c('ocean_proximity','median_house_value')\n",
    "housing_num =  housing[ , !(names(housing) %in% drops)]\n",
    "# head(housing_num)\n",
    "\n",
    "scaled_housing_num = scale(housing_num)\n",
    "# head(scaled_housing_num)\n",
    "\n",
    "#Merge the altered numerical and categorical dataframes\n",
    "cleaned_housing = cbind(cat_housing, scaled_housing_num, median_house_value=housing$median_house_value)\n",
    "# head(cleaned_housing)\n",
    "\n",
    "\n",
    "\n",
    "# Create a test set of data\n",
    "\n",
    "set.seed(1738) # Set a random seed so that same sample can be reproduced in future runs\n",
    "\n",
    "sample = sample.int(n = nrow(cleaned_housing), size = floor(.8*nrow(cleaned_housing)), replace = F)\n",
    "train = cleaned_housing[sample, ] #just the samples\n",
    "test  = cleaned_housing[-sample, ] #everything but the samples\n",
    "\n",
    "#Random forest model\n",
    "library('randomForest')\n",
    "# names(train)\n",
    "\n",
    "set.seed(1738)\n",
    "\n",
    "train_y = train[,'median_house_value']\n",
    "train_x = train[, names(train) !='median_house_value']\n",
    "\n",
    "# head(train_y)\n",
    "# head(train_x)\n",
    "\n",
    "rf_model = randomForest(train_x, y = train_y , ntree = 500, importance = TRUE)\n",
    "\n",
    "names(rf_model)\n",
    "rf_model$importance"
   ]
  },
  {
   "cell_type": "markdown",
   "id": "cutting-moses",
   "metadata": {},
   "source": [
    "Stworzony model to las losowy <br>\n",
    "Braki w danych (kolumna total_bedrooms) zostały uzupełnione przez medianę wszystkich wartości. <br>\n",
    "Ilość sypialni, oraz pokoi w „bloku” zostały zastąpione ilością przypadającą na jednego mieszkańca. <br>\n",
    "Kategoryczna kolumna ocean_proximity została rokodowana poprzez One-hot encoding. <br>\n",
    "Kolumny numeryczne zostały przeskalowane.\n"
   ]
  },
  {
   "cell_type": "markdown",
   "id": "seasonal-conclusion",
   "metadata": {},
   "source": [
    "## Wyjaśnianie"
   ]
  },
  {
   "cell_type": "code",
   "execution_count": 81,
   "id": "dangerous-triple",
   "metadata": {},
   "outputs": [
    {
     "name": "stderr",
     "output_type": "stream",
     "text": [
      "Warning message:\n",
      "\"package 'DALEX' was built under R version 3.6.3\"Welcome to DALEX (version: 2.2.0).\n",
      "Find examples and detailed introduction at: http://ema.drwhy.ai/\n",
      "Additional features will be available after installation of: ggpubr.\n",
      "Use 'install_dependencies()' to get all suggested dependencies\n",
      "\n",
      "Attaching package: 'DALEX'\n",
      "\n",
      "The following object is masked from 'package:dplyr':\n",
      "\n",
      "    explain\n",
      "\n",
      "Warning message:\n",
      "\"package 'DALEXtra' was built under R version 3.6.3\""
     ]
    },
    {
     "name": "stdout",
     "output_type": "stream",
     "text": [
      "Preparation of a new explainer is initiated\n",
      "  -> model label       :  randomForest  ( \u001b[33m default \u001b[39m )\n",
      "  -> data              :  16512  rows  13  cols \n",
      "  -> target variable   :  16512  values \n",
      "  -> predict function  :  yhat.randomForest  will be used ( \u001b[33m default \u001b[39m )\n",
      "  -> predicted values  :  No value for predict function target column. ( \u001b[33m default \u001b[39m )\n",
      "  -> model_info        :  package randomForest , ver. 4.6.14 , task regression ( \u001b[33m default \u001b[39m ) \n",
      "  -> predicted values  :  numerical, min =  39702.65 , mean =  206688.3 , max =  499518.2  \n",
      "  -> residual function :  difference between y and yhat ( \u001b[33m default \u001b[39m )\n",
      "  -> residuals         :  numerical, min =  -126586.5 , mean =  -173.9163 , max =  195986.5  \n",
      " \u001b[32m A new explainer has been created! \u001b[39m \n"
     ]
    }
   ],
   "source": [
    "library(DALEX)\n",
    "library(DALEXtra)\n",
    "\n",
    "\n",
    "fr_model_expain <- explain(model = rf_model, data=train_x, y=train_y)\n"
   ]
  },
  {
   "cell_type": "markdown",
   "id": "infrared-angola",
   "metadata": {},
   "source": [
    "## SHARP"
   ]
  },
  {
   "cell_type": "code",
   "execution_count": 88,
   "id": "foreign-partner",
   "metadata": {},
   "outputs": [
    {
     "name": "stdout",
     "output_type": "stream",
     "text": [
      "Preparation of a new explainer is initiated\n",
      "  -> model label       :  randomForest  ( \u001b[33m default \u001b[39m )\n",
      "  -> data              :  20640  rows  13  cols \n",
      "  -> target variable   :  20640  values \n",
      "  -> predict function  :  yhat.randomForest  will be used ( \u001b[33m default \u001b[39m )\n",
      "  -> predicted values  :  No value for predict function target column. ( \u001b[33m default \u001b[39m )\n",
      "  -> model_info        :  package randomForest , ver. 4.6.14 , task regression ( \u001b[33m default \u001b[39m ) \n",
      "  -> predicted values  :  numerical, min =  39702.65 , mean =  207032.6 , max =  499518.2  \n",
      "  -> residual function :  difference between y and yhat ( \u001b[33m default \u001b[39m )\n",
      "  -> residuals         :  numerical, min =  -310541.6 , mean =  -176.7656 , max =  337753.4  \n",
      " \u001b[32m A new explainer has been created! \u001b[39m \n"
     ]
    }
   ],
   "source": [
    "\n",
    "y = cleaned_housing[,'median_house_value']\n",
    "x = cleaned_housing[, names(train) !='median_house_value']\n",
    "\n",
    "fr_model_expain <- explain(model = rf_model, data=x, y=y)\n",
    "\n"
   ]
  },
  {
   "cell_type": "code",
   "execution_count": 89,
   "id": "formal-eclipse",
   "metadata": {},
   "outputs": [
    {
     "data": {
      "text/html": [
       "<table>\n",
       "<thead><tr><th scope=col>NEAR BAY</th><th scope=col>&lt;1H OCEAN</th><th scope=col>INLAND</th><th scope=col>NEAR OCEAN</th><th scope=col>ISLAND</th><th scope=col>longitude</th><th scope=col>latitude</th><th scope=col>housing_median_age</th><th scope=col>population</th><th scope=col>households</th><th scope=col>median_income</th><th scope=col>mean_bedrooms</th><th scope=col>mean_rooms</th><th scope=col>median_house_value</th></tr></thead>\n",
       "<tbody>\n",
       "\t<tr><td>1        </td><td>0        </td><td>0        </td><td>0        </td><td>0        </td><td>-122.23  </td><td>37.88    </td><td>41       </td><td> 322     </td><td> 126     </td><td>8.3252   </td><td>1.0238095</td><td>6.984127 </td><td>452600   </td></tr>\n",
       "\t<tr><td>1        </td><td>0        </td><td>0        </td><td>0        </td><td>0        </td><td>-122.22  </td><td>37.86    </td><td>21       </td><td>2401     </td><td>1138     </td><td>8.3014   </td><td>0.9718805</td><td>6.238137 </td><td>358500   </td></tr>\n",
       "\t<tr><td>1        </td><td>0        </td><td>0        </td><td>0        </td><td>0        </td><td>-122.24  </td><td>37.85    </td><td>52       </td><td> 496     </td><td> 177     </td><td>7.2574   </td><td>1.0734463</td><td>8.288136 </td><td>352100   </td></tr>\n",
       "\t<tr><td>1        </td><td>0        </td><td>0        </td><td>0        </td><td>0        </td><td>-122.25  </td><td>37.85    </td><td>52       </td><td> 558     </td><td> 219     </td><td>5.6431   </td><td>1.0730594</td><td>5.817352 </td><td>341300   </td></tr>\n",
       "\t<tr><td>1        </td><td>0        </td><td>0        </td><td>0        </td><td>0        </td><td>-122.25  </td><td>37.85    </td><td>52       </td><td> 565     </td><td> 259     </td><td>3.8462   </td><td>1.0810811</td><td>6.281853 </td><td>342200   </td></tr>\n",
       "\t<tr><td>1        </td><td>0        </td><td>0        </td><td>0        </td><td>0        </td><td>-122.25  </td><td>37.85    </td><td>52       </td><td> 413     </td><td> 193     </td><td>4.0368   </td><td>1.1036269</td><td>4.761658 </td><td>269700   </td></tr>\n",
       "</tbody>\n",
       "</table>\n"
      ],
      "text/latex": [
       "\\begin{tabular}{r|llllllllllllll}\n",
       " NEAR BAY & <1H OCEAN & INLAND & NEAR OCEAN & ISLAND & longitude & latitude & housing\\_median\\_age & population & households & median\\_income & mean\\_bedrooms & mean\\_rooms & median\\_house\\_value\\\\\n",
       "\\hline\n",
       "\t 1         & 0         & 0         & 0         & 0         & -122.23   & 37.88     & 41        &  322      &  126      & 8.3252    & 1.0238095 & 6.984127  & 452600   \\\\\n",
       "\t 1         & 0         & 0         & 0         & 0         & -122.22   & 37.86     & 21        & 2401      & 1138      & 8.3014    & 0.9718805 & 6.238137  & 358500   \\\\\n",
       "\t 1         & 0         & 0         & 0         & 0         & -122.24   & 37.85     & 52        &  496      &  177      & 7.2574    & 1.0734463 & 8.288136  & 352100   \\\\\n",
       "\t 1         & 0         & 0         & 0         & 0         & -122.25   & 37.85     & 52        &  558      &  219      & 5.6431    & 1.0730594 & 5.817352  & 341300   \\\\\n",
       "\t 1         & 0         & 0         & 0         & 0         & -122.25   & 37.85     & 52        &  565      &  259      & 3.8462    & 1.0810811 & 6.281853  & 342200   \\\\\n",
       "\t 1         & 0         & 0         & 0         & 0         & -122.25   & 37.85     & 52        &  413      &  193      & 4.0368    & 1.1036269 & 4.761658  & 269700   \\\\\n",
       "\\end{tabular}\n"
      ],
      "text/markdown": [
       "\n",
       "| NEAR BAY | <1H OCEAN | INLAND | NEAR OCEAN | ISLAND | longitude | latitude | housing_median_age | population | households | median_income | mean_bedrooms | mean_rooms | median_house_value |\n",
       "|---|---|---|---|---|---|---|---|---|---|---|---|---|---|\n",
       "| 1         | 0         | 0         | 0         | 0         | -122.23   | 37.88     | 41        |  322      |  126      | 8.3252    | 1.0238095 | 6.984127  | 452600    |\n",
       "| 1         | 0         | 0         | 0         | 0         | -122.22   | 37.86     | 21        | 2401      | 1138      | 8.3014    | 0.9718805 | 6.238137  | 358500    |\n",
       "| 1         | 0         | 0         | 0         | 0         | -122.24   | 37.85     | 52        |  496      |  177      | 7.2574    | 1.0734463 | 8.288136  | 352100    |\n",
       "| 1         | 0         | 0         | 0         | 0         | -122.25   | 37.85     | 52        |  558      |  219      | 5.6431    | 1.0730594 | 5.817352  | 341300    |\n",
       "| 1         | 0         | 0         | 0         | 0         | -122.25   | 37.85     | 52        |  565      |  259      | 3.8462    | 1.0810811 | 6.281853  | 342200    |\n",
       "| 1         | 0         | 0         | 0         | 0         | -122.25   | 37.85     | 52        |  413      |  193      | 4.0368    | 1.1036269 | 4.761658  | 269700    |\n",
       "\n"
      ],
      "text/plain": [
       "  NEAR BAY <1H OCEAN INLAND NEAR OCEAN ISLAND longitude latitude\n",
       "1 1        0         0      0          0      -122.23   37.88   \n",
       "2 1        0         0      0          0      -122.22   37.86   \n",
       "3 1        0         0      0          0      -122.24   37.85   \n",
       "4 1        0         0      0          0      -122.25   37.85   \n",
       "5 1        0         0      0          0      -122.25   37.85   \n",
       "6 1        0         0      0          0      -122.25   37.85   \n",
       "  housing_median_age population households median_income mean_bedrooms\n",
       "1 41                  322        126       8.3252        1.0238095    \n",
       "2 21                 2401       1138       8.3014        0.9718805    \n",
       "3 52                  496        177       7.2574        1.0734463    \n",
       "4 52                  558        219       5.6431        1.0730594    \n",
       "5 52                  565        259       3.8462        1.0810811    \n",
       "6 52                  413        193       4.0368        1.1036269    \n",
       "  mean_rooms median_house_value\n",
       "1 6.984127   452600            \n",
       "2 6.238137   358500            \n",
       "3 8.288136   352100            \n",
       "4 5.817352   341300            \n",
       "5 6.281853   342200            \n",
       "6 4.761658   269700            "
      ]
     },
     "metadata": {},
     "output_type": "display_data"
    }
   ],
   "source": [
    "# ramka cleande_housing jest przeskalowana, weźmy ramke nieskalowaną dla lepszego zrozumienia zmiennych\n",
    "housing_not_scaled = cbind(cat_housing, housing_num, median_house_value=housing$median_house_value)\n",
    "head(housing_not_scaled)"
   ]
  },
  {
   "cell_type": "code",
   "execution_count": 91,
   "id": "mineral-chapel",
   "metadata": {},
   "outputs": [
    {
     "data": {
      "image/png": "[encoded data removed]",
      "text/plain": [
       "plot without title"
      ]
     },
     "metadata": {},
     "output_type": "display_data"
    }
   ],
   "source": [
    "set.seed(1234)\n",
    "rf_model_shap_1a <- predict_parts(fr_model_expain, new_observation = x[1,], type = \"shap\", B = 10)\n",
    "plot(rf_model_shap_1a)"
   ]
  },
  {
   "cell_type": "code",
   "execution_count": 93,
   "id": "traditional-vatican",
   "metadata": {},
   "outputs": [
    {
     "data": {
      "text/html": [
       "<table>\n",
       "<thead><tr><th scope=col>NEAR BAY</th><th scope=col>&lt;1H OCEAN</th><th scope=col>INLAND</th><th scope=col>NEAR OCEAN</th><th scope=col>ISLAND</th><th scope=col>longitude</th><th scope=col>latitude</th><th scope=col>housing_median_age</th><th scope=col>population</th><th scope=col>households</th><th scope=col>median_income</th><th scope=col>mean_bedrooms</th><th scope=col>mean_rooms</th></tr></thead>\n",
       "<tbody>\n",
       "\t<tr><td>1         </td><td>0         </td><td>0         </td><td>0         </td><td>0         </td><td>-1.327803 </td><td>1.052523  </td><td>0.9821189 </td><td>-0.974405 </td><td>-0.9770092</td><td>2.344709  </td><td>-0.1485107</td><td>0.6285442 </td></tr>\n",
       "</tbody>\n",
       "</table>\n"
      ],
      "text/latex": [
       "\\begin{tabular}{r|lllllllllllll}\n",
       " NEAR BAY & <1H OCEAN & INLAND & NEAR OCEAN & ISLAND & longitude & latitude & housing\\_median\\_age & population & households & median\\_income & mean\\_bedrooms & mean\\_rooms\\\\\n",
       "\\hline\n",
       "\t 1          & 0          & 0          & 0          & 0          & -1.327803  & 1.052523   & 0.9821189  & -0.974405  & -0.9770092 & 2.344709   & -0.1485107 & 0.6285442 \\\\\n",
       "\\end{tabular}\n"
      ],
      "text/markdown": [
       "\n",
       "| NEAR BAY | <1H OCEAN | INLAND | NEAR OCEAN | ISLAND | longitude | latitude | housing_median_age | population | households | median_income | mean_bedrooms | mean_rooms |\n",
       "|---|---|---|---|---|---|---|---|---|---|---|---|---|\n",
       "| 1          | 0          | 0          | 0          | 0          | -1.327803  | 1.052523   | 0.9821189  | -0.974405  | -0.9770092 | 2.344709   | -0.1485107 | 0.6285442  |\n",
       "\n"
      ],
      "text/plain": [
       "  NEAR BAY <1H OCEAN INLAND NEAR OCEAN ISLAND longitude latitude\n",
       "1 1        0         0      0          0      -1.327803 1.052523\n",
       "  housing_median_age population households median_income mean_bedrooms\n",
       "1 0.9821189          -0.974405  -0.9770092 2.344709      -0.1485107   \n",
       "  mean_rooms\n",
       "1 0.6285442 "
      ]
     },
     "metadata": {},
     "output_type": "display_data"
    }
   ],
   "source": [
    "x[1,] # dane na kórych pracował model"
   ]
  },
  {
   "cell_type": "code",
   "execution_count": 94,
   "id": "supported-jacksonville",
   "metadata": {},
   "outputs": [
    {
     "data": {
      "text/html": [
       "<table>\n",
       "<thead><tr><th scope=col>NEAR BAY</th><th scope=col>&lt;1H OCEAN</th><th scope=col>INLAND</th><th scope=col>NEAR OCEAN</th><th scope=col>ISLAND</th><th scope=col>longitude</th><th scope=col>latitude</th><th scope=col>housing_median_age</th><th scope=col>population</th><th scope=col>households</th><th scope=col>median_income</th><th scope=col>mean_bedrooms</th><th scope=col>mean_rooms</th><th scope=col>median_house_value</th></tr></thead>\n",
       "<tbody>\n",
       "\t<tr><td>1       </td><td>0       </td><td>0       </td><td>0       </td><td>0       </td><td>-122.23 </td><td>37.88   </td><td>41      </td><td>322     </td><td>126     </td><td>8.3252  </td><td>1.02381 </td><td>6.984127</td><td>452600  </td></tr>\n",
       "</tbody>\n",
       "</table>\n"
      ],
      "text/latex": [
       "\\begin{tabular}{r|llllllllllllll}\n",
       " NEAR BAY & <1H OCEAN & INLAND & NEAR OCEAN & ISLAND & longitude & latitude & housing\\_median\\_age & population & households & median\\_income & mean\\_bedrooms & mean\\_rooms & median\\_house\\_value\\\\\n",
       "\\hline\n",
       "\t 1        & 0        & 0        & 0        & 0        & -122.23  & 37.88    & 41       & 322      & 126      & 8.3252   & 1.02381  & 6.984127 & 452600  \\\\\n",
       "\\end{tabular}\n"
      ],
      "text/markdown": [
       "\n",
       "| NEAR BAY | <1H OCEAN | INLAND | NEAR OCEAN | ISLAND | longitude | latitude | housing_median_age | population | households | median_income | mean_bedrooms | mean_rooms | median_house_value |\n",
       "|---|---|---|---|---|---|---|---|---|---|---|---|---|---|\n",
       "| 1        | 0        | 0        | 0        | 0        | -122.23  | 37.88    | 41       | 322      | 126      | 8.3252   | 1.02381  | 6.984127 | 452600   |\n",
       "\n"
      ],
      "text/plain": [
       "  NEAR BAY <1H OCEAN INLAND NEAR OCEAN ISLAND longitude latitude\n",
       "1 1        0         0      0          0      -122.23   37.88   \n",
       "  housing_median_age population households median_income mean_bedrooms\n",
       "1 41                 322        126        8.3252        1.02381      \n",
       "  mean_rooms median_house_value\n",
       "1 6.984127   452600            "
      ]
     },
     "metadata": {},
     "output_type": "display_data"
    }
   ],
   "source": [
    "housing_not_scaled[1,] # dane nieprzeskalowane "
   ]
  },
  {
   "cell_type": "markdown",
   "id": "concrete-earthquake",
   "metadata": {},
   "source": [
    "Wygenerowany wykres SHARP jest zależny od danego losowania, gdy weźmiemy inne ziarno otrzymamy inny wykres"
   ]
  },
  {
   "cell_type": "code",
   "execution_count": 92,
   "id": "collaborative-prime",
   "metadata": {},
   "outputs": [
    {
     "data": {
      "image/png": "[encoded data removed]",
      "text/plain": [
       "plot without title"
      ]
     },
     "metadata": {},
     "output_type": "display_data"
    }
   ],
   "source": [
    "set.seed(5748)\n",
    "rf_model_shap_1b <- predict_parts(fr_model_expain, new_observation = x[1,], type = \"shap\", B = 10)\n",
    "plot(rf_model_shap_1b)"
   ]
  },
  {
   "cell_type": "markdown",
   "id": "infectious-poetry",
   "metadata": {},
   "source": [
    "### Pierwsza nieruchomość w zbiorze:\n",
    "Największy wpływ na podwyższenie przewidywanej ceny nieruchomości miała kategoria „median_income” (mediana z dochodów mieszkańców w okolicznym zgrupowaniu domów)\n",
    "o wartości 83.252 tyś dolarów, jak na nasz zbiór jest to wysoka wartość 4-kwartyl \n",
    "\n",
    "\n",
    "Mniejszy pozytywny efekt wykazały także długość geograficzna, średnia pokoi przypadająca na mieszkańca ok 7, oraz to że nieruchomość nie znajduje się na wyspie    \n",
    "\n",
    "\n",
    "W tym przypadku przeważą zmienne podnoszące cenę, jest to dość droga nieruchomość 4-kwartyl po cenie \n"
   ]
  },
  {
   "cell_type": "code",
   "execution_count": 95,
   "id": "shaped-discussion",
   "metadata": {},
   "outputs": [
    {
     "data": {
      "image/png": "[encoded data removed]",
      "text/plain": [
       "plot without title"
      ]
     },
     "metadata": {},
     "output_type": "display_data"
    }
   ],
   "source": [
    "set.seed(5840)\n",
    "rf_model_shap_2 <- predict_parts(fr_model_expain, new_observation = x[100,], type = \"shap\", B = 10)\n",
    "plot(rf_model_shap_2)"
   ]
  },
  {
   "cell_type": "code",
   "execution_count": 96,
   "id": "outer-adult",
   "metadata": {},
   "outputs": [
    {
     "data": {
      "text/html": [
       "<table>\n",
       "<thead><tr><th></th><th scope=col>NEAR BAY</th><th scope=col>&lt;1H OCEAN</th><th scope=col>INLAND</th><th scope=col>NEAR OCEAN</th><th scope=col>ISLAND</th><th scope=col>longitude</th><th scope=col>latitude</th><th scope=col>housing_median_age</th><th scope=col>population</th><th scope=col>households</th><th scope=col>median_income</th><th scope=col>mean_bedrooms</th><th scope=col>mean_rooms</th></tr></thead>\n",
       "<tbody>\n",
       "\t<tr><th scope=row>100</th><td>1         </td><td>0         </td><td>0         </td><td>0         </td><td>0         </td><td>-1.342777 </td><td>1.024432  </td><td>0.6642943 </td><td>0.3642711 </td><td>1.256665  </td><td>-0.6633628</td><td>0.01200532</td><td>-0.6959323</td></tr>\n",
       "</tbody>\n",
       "</table>\n"
      ],
      "text/latex": [
       "\\begin{tabular}{r|lllllllllllll}\n",
       "  & NEAR BAY & <1H OCEAN & INLAND & NEAR OCEAN & ISLAND & longitude & latitude & housing\\_median\\_age & population & households & median\\_income & mean\\_bedrooms & mean\\_rooms\\\\\n",
       "\\hline\n",
       "\t100 & 1          & 0          & 0          & 0          & 0          & -1.342777  & 1.024432   & 0.6642943  & 0.3642711  & 1.256665   & -0.6633628 & 0.01200532 & -0.6959323\\\\\n",
       "\\end{tabular}\n"
      ],
      "text/markdown": [
       "\n",
       "| <!--/--> | NEAR BAY | <1H OCEAN | INLAND | NEAR OCEAN | ISLAND | longitude | latitude | housing_median_age | population | households | median_income | mean_bedrooms | mean_rooms |\n",
       "|---|---|---|---|---|---|---|---|---|---|---|---|---|---|\n",
       "| 100 | 1          | 0          | 0          | 0          | 0          | -1.342777  | 1.024432   | 0.6642943  | 0.3642711  | 1.256665   | -0.6633628 | 0.01200532 | -0.6959323 |\n",
       "\n"
      ],
      "text/plain": [
       "    NEAR BAY <1H OCEAN INLAND NEAR OCEAN ISLAND longitude latitude\n",
       "100 1        0         0      0          0      -1.342777 1.024432\n",
       "    housing_median_age population households median_income mean_bedrooms\n",
       "100 0.6642943          0.3642711  1.256665   -0.6633628    0.01200532   \n",
       "    mean_rooms\n",
       "100 -0.6959323"
      ]
     },
     "metadata": {},
     "output_type": "display_data"
    }
   ],
   "source": [
    "x[100,] # dane na kórych pracował model"
   ]
  },
  {
   "cell_type": "code",
   "execution_count": 98,
   "id": "proved-retention",
   "metadata": {},
   "outputs": [
    {
     "data": {
      "text/html": [
       "<table>\n",
       "<thead><tr><th></th><th scope=col>NEAR BAY</th><th scope=col>&lt;1H OCEAN</th><th scope=col>INLAND</th><th scope=col>NEAR OCEAN</th><th scope=col>ISLAND</th><th scope=col>longitude</th><th scope=col>latitude</th><th scope=col>housing_median_age</th><th scope=col>population</th><th scope=col>households</th><th scope=col>median_income</th><th scope=col>mean_bedrooms</th><th scope=col>mean_rooms</th><th scope=col>median_house_value</th></tr></thead>\n",
       "<tbody>\n",
       "\t<tr><th scope=row>100</th><td>1       </td><td>0       </td><td>0       </td><td>0       </td><td>0       </td><td>-122.26 </td><td>37.82   </td><td>37      </td><td>1838    </td><td>980     </td><td>2.6104  </td><td>1.107143</td><td>3.707143</td><td>193100  </td></tr>\n",
       "</tbody>\n",
       "</table>\n"
      ],
      "text/latex": [
       "\\begin{tabular}{r|llllllllllllll}\n",
       "  & NEAR BAY & <1H OCEAN & INLAND & NEAR OCEAN & ISLAND & longitude & latitude & housing\\_median\\_age & population & households & median\\_income & mean\\_bedrooms & mean\\_rooms & median\\_house\\_value\\\\\n",
       "\\hline\n",
       "\t100 & 1        & 0        & 0        & 0        & 0        & -122.26  & 37.82    & 37       & 1838     & 980      & 2.6104   & 1.107143 & 3.707143 & 193100  \\\\\n",
       "\\end{tabular}\n"
      ],
      "text/markdown": [
       "\n",
       "| <!--/--> | NEAR BAY | <1H OCEAN | INLAND | NEAR OCEAN | ISLAND | longitude | latitude | housing_median_age | population | households | median_income | mean_bedrooms | mean_rooms | median_house_value |\n",
       "|---|---|---|---|---|---|---|---|---|---|---|---|---|---|---|\n",
       "| 100 | 1        | 0        | 0        | 0        | 0        | -122.26  | 37.82    | 37       | 1838     | 980      | 2.6104   | 1.107143 | 3.707143 | 193100   |\n",
       "\n"
      ],
      "text/plain": [
       "    NEAR BAY <1H OCEAN INLAND NEAR OCEAN ISLAND longitude latitude\n",
       "100 1        0         0      0          0      -122.26   37.82   \n",
       "    housing_median_age population households median_income mean_bedrooms\n",
       "100 37                 1838       980        2.6104        1.107143     \n",
       "    mean_rooms median_house_value\n",
       "100 3.707143   193100            "
      ]
     },
     "metadata": {},
     "output_type": "display_data"
    }
   ],
   "source": [
    "housing_not_scaled[100,] # dane nieprzeskalowane "
   ]
  },
  {
   "cell_type": "markdown",
   "id": "together-maximum",
   "metadata": {},
   "source": [
    "### Setna nieruchomość w zbiorze:\n",
    "Największy wpływ na obniżenie przewidywanej ceny miał niski poziom dochodów na poziomie 26.104 tyś USD (pierwszy kwartyl dochodów)\n",
    "\n",
    "Zaś pozytywny efekt wykazała długość geograficzna, oraz fakt że  nieruchomość nie znajduje się na wyspie.\n"
   ]
  },
  {
   "cell_type": "markdown",
   "id": "noble-coral",
   "metadata": {},
   "source": [
    "## Obserwacje o różnych ważnych zmiennych mających wpływ na predykcje "
   ]
  },
  {
   "cell_type": "code",
   "execution_count": 99,
   "id": "separate-choice",
   "metadata": {},
   "outputs": [
    {
     "data": {
      "image/png": "[encoded data removed]",
      "text/plain": [
       "plot without title"
      ]
     },
     "metadata": {},
     "output_type": "display_data"
    }
   ],
   "source": [
    "# jakaś obserwacja\n",
    "predict_5 <- predict_parts(fr_model_expain, new_observation = x[5,])\n",
    "plot(predict_5)"
   ]
  },
  {
   "cell_type": "markdown",
   "id": "computational-graham",
   "metadata": {},
   "source": [
    "Dla piątej obserwacji w predykcji ceny największe znaczenia miała długość geograficzna, oraz to że nie znajduje się na wyspie "
   ]
  },
  {
   "cell_type": "code",
   "execution_count": 100,
   "id": "major-sterling",
   "metadata": {},
   "outputs": [
    {
     "name": "stdout",
     "output_type": "stream",
     "text": [
      "[1] 7452\n",
      "                                           contribution\n",
      "randomForest: intercept                      207032.583\n",
      "randomForest: latitude = -0.7921              28393.338\n",
      "randomForest: INLAND = 0                      28589.543\n",
      "randomForest: median_income = 0.4044          19388.470\n",
      "randomForest: population = -0.8181            16428.216\n",
      "randomForest: households = -0.7782           -20699.419\n",
      "randomForest: <1H OCEAN = 1                   -2388.232\n",
      "randomForest: longitude = 0.6986             -67323.352\n",
      "randomForest: housing_median_age = -0.9248    -2818.299\n",
      "randomForest: NEAR BAY = 0                    -1048.903\n",
      "randomForest: NEAR OCEAN = 0                  -3137.493\n",
      "randomForest: mean_rooms = 0.09673            -8692.851\n",
      "randomForest: mean_bedrooms = -0.1276         -6059.778\n",
      "randomForest: ISLAND = 0                         -0.361\n",
      "randomForest: prediction                     187663.460\n",
      "[1] 8016\n",
      "                                          contribution\n",
      "randomForest: intercept                     207032.583\n",
      "randomForest: latitude = -0.8436             33832.287\n",
      "randomForest: INLAND = 0                     29468.692\n",
      "randomForest: population = -0.5302            8045.067\n",
      "randomForest: longitude = 0.7336            -28005.524\n",
      "randomForest: <1H OCEAN = 1                 -13752.932\n",
      "randomForest: households = -0.433            -7017.031\n",
      "randomForest: housing_median_age = 0.6643     2086.337\n",
      "randomForest: mean_rooms = 0.2973             1509.776\n",
      "randomForest: median_income = 0.09981        -1444.312\n",
      "randomForest: NEAR BAY = 0                   -1099.655\n",
      "randomForest: NEAR OCEAN = 0                 -3493.320\n",
      "randomForest: mean_bedrooms = -0.1079        -1362.389\n",
      "randomForest: ISLAND = 0                        -0.777\n",
      "randomForest: prediction                    225798.803\n",
      "[1] 7162\n",
      "                                          contribution\n",
      "randomForest: intercept                     207032.583\n",
      "randomForest: median_income = -0.7653       -39650.055\n",
      "randomForest: latitude = -0.75               27652.022\n",
      "randomForest: INLAND = 0                     28400.646\n",
      "randomForest: households = -0.6605           -6232.566\n",
      "randomForest: <1H OCEAN = 1                    316.159\n",
      "randomForest: mean_rooms = -0.535            -1673.361\n",
      "randomForest: population = -0.3192           -3941.433\n",
      "randomForest: longitude = 0.6986            -58551.394\n",
      "randomForest: housing_median_age = 0.1876    -2699.836\n",
      "randomForest: mean_bedrooms = -0.1554        -2739.299\n",
      "randomForest: NEAR BAY = 0                   -1193.645\n",
      "randomForest: NEAR OCEAN = 0                  -962.127\n",
      "randomForest: ISLAND = 0                        -1.586\n",
      "randomForest: prediction                    145756.106\n"
     ]
    }
   ],
   "source": [
    "# wybieranie losowych obserwacji, i sprawdzanie czy dwie głóne kategorie są inne\n",
    "\n",
    "set.seed(1234)\n",
    "while(TRUE){\n",
    "  s=sample(1:nrow(x),1,replace = F)\n",
    "  print(s)\n",
    "  predict_s <- predict_parts(fr_model_expain, new_observation = x[s,])\n",
    "  print(predict_s)\n",
    "  if (predict_s[2,]$variable_name!=predict_5[2,]$variable_name){\n",
    "      if (predict_s[3,]$variable_name!=predict_5[3,]$variable_name){\n",
    "        return()\n",
    "      }\n",
    "  }\n",
    "}"
   ]
  },
  {
   "cell_type": "code",
   "execution_count": 101,
   "id": "fifth-gardening",
   "metadata": {},
   "outputs": [
    {
     "data": {
      "image/png": "[encoded data removed]",
      "text/plain": [
       "plot without title"
      ]
     },
     "metadata": {},
     "output_type": "display_data"
    }
   ],
   "source": [
    "plot(predict_s)"
   ]
  },
  {
   "cell_type": "markdown",
   "id": "offshore-frederick",
   "metadata": {},
   "source": [
    "W tym przypadku najważniejsza była  mediana dochodu oraz szerokość geograficzna.\n",
    "\n",
    "We wszystkich powyższych przykładach, gdy nieruchomość nie jest zaklafikowana jako znajdujaca się w głebi lądu (INLAND=0) jej watorśc jest wyższa."
   ]
  },
  {
   "cell_type": "markdown",
   "id": "african-wrestling",
   "metadata": {},
   "source": [
    "## Obserwacje  które mają dla tych samych zmiennych inne efekty (pozytywny i negatywny)"
   ]
  },
  {
   "cell_type": "code",
   "execution_count": 103,
   "id": "young-closing",
   "metadata": {},
   "outputs": [
    {
     "data": {
      "image/png": "[encoded data removed]",
      "text/plain": [
       "plot without title"
      ]
     },
     "metadata": {},
     "output_type": "display_data"
    }
   ],
   "source": [
    "pp_1<-predict_parts(fr_model_expain, new_observation = x[18323,])\n",
    "plot(pp_1)"
   ]
  },
  {
   "cell_type": "code",
   "execution_count": 105,
   "id": "recovered-familiar",
   "metadata": {},
   "outputs": [
    {
     "data": {
      "text/html": [
       "<table>\n",
       "<thead><tr><th></th><th scope=col>NEAR BAY</th><th scope=col>&lt;1H OCEAN</th><th scope=col>INLAND</th><th scope=col>NEAR OCEAN</th><th scope=col>ISLAND</th><th scope=col>longitude</th><th scope=col>latitude</th><th scope=col>housing_median_age</th><th scope=col>population</th><th scope=col>households</th><th scope=col>median_income</th><th scope=col>mean_bedrooms</th><th scope=col>mean_rooms</th><th scope=col>median_house_value</th></tr></thead>\n",
       "<tbody>\n",
       "\t<tr><th scope=row>18323</th><td>1       </td><td>0       </td><td>0       </td><td>0       </td><td>0       </td><td>-122.13 </td><td>37.45   </td><td>41      </td><td>1251    </td><td>506     </td><td>6.6354  </td><td>1.067194</td><td>6.389328</td><td>500001  </td></tr>\n",
       "</tbody>\n",
       "</table>\n"
      ],
      "text/latex": [
       "\\begin{tabular}{r|llllllllllllll}\n",
       "  & NEAR BAY & <1H OCEAN & INLAND & NEAR OCEAN & ISLAND & longitude & latitude & housing\\_median\\_age & population & households & median\\_income & mean\\_bedrooms & mean\\_rooms & median\\_house\\_value\\\\\n",
       "\\hline\n",
       "\t18323 & 1        & 0        & 0        & 0        & 0        & -122.13  & 37.45    & 41       & 1251     & 506      & 6.6354   & 1.067194 & 6.389328 & 500001  \\\\\n",
       "\\end{tabular}\n"
      ],
      "text/markdown": [
       "\n",
       "| <!--/--> | NEAR BAY | <1H OCEAN | INLAND | NEAR OCEAN | ISLAND | longitude | latitude | housing_median_age | population | households | median_income | mean_bedrooms | mean_rooms | median_house_value |\n",
       "|---|---|---|---|---|---|---|---|---|---|---|---|---|---|---|\n",
       "| 18323 | 1        | 0        | 0        | 0        | 0        | -122.13  | 37.45    | 41       | 1251     | 506      | 6.6354   | 1.067194 | 6.389328 | 500001   |\n",
       "\n"
      ],
      "text/plain": [
       "      NEAR BAY <1H OCEAN INLAND NEAR OCEAN ISLAND longitude latitude\n",
       "18323 1        0         0      0          0      -122.13   37.45   \n",
       "      housing_median_age population households median_income mean_bedrooms\n",
       "18323 41                 1251       506        6.6354        1.067194     \n",
       "      mean_rooms median_house_value\n",
       "18323 6.389328   500001            "
      ]
     },
     "metadata": {},
     "output_type": "display_data"
    }
   ],
   "source": [
    "housing_not_scaled[18323,] # dane nieprzeskalowane "
   ]
  },
  {
   "cell_type": "code",
   "execution_count": 104,
   "id": "adolescent-denver",
   "metadata": {},
   "outputs": [
    {
     "data": {
      "image/png": "[encoded data removed]",
      "text/plain": [
       "plot without title"
      ]
     },
     "metadata": {},
     "output_type": "display_data"
    }
   ],
   "source": [
    "pp_2<-predict_parts(fr_model_expain, new_observation = x[19577,])\n",
    "plot(pp_2)"
   ]
  },
  {
   "cell_type": "code",
   "execution_count": 106,
   "id": "packed-shaft",
   "metadata": {
    "scrolled": true
   },
   "outputs": [
    {
     "data": {
      "text/html": [
       "<table>\n",
       "<thead><tr><th></th><th scope=col>NEAR BAY</th><th scope=col>&lt;1H OCEAN</th><th scope=col>INLAND</th><th scope=col>NEAR OCEAN</th><th scope=col>ISLAND</th><th scope=col>longitude</th><th scope=col>latitude</th><th scope=col>housing_median_age</th><th scope=col>population</th><th scope=col>households</th><th scope=col>median_income</th><th scope=col>mean_bedrooms</th><th scope=col>mean_rooms</th><th scope=col>median_house_value</th></tr></thead>\n",
       "<tbody>\n",
       "\t<tr><th scope=row>19577</th><td>0       </td><td>0       </td><td>1       </td><td>0       </td><td>0       </td><td>-120.64 </td><td>37.7    </td><td>16      </td><td>239     </td><td>46      </td><td>1.8958  </td><td>1.108696</td><td>6.173913</td><td>137500  </td></tr>\n",
       "</tbody>\n",
       "</table>\n"
      ],
      "text/latex": [
       "\\begin{tabular}{r|llllllllllllll}\n",
       "  & NEAR BAY & <1H OCEAN & INLAND & NEAR OCEAN & ISLAND & longitude & latitude & housing\\_median\\_age & population & households & median\\_income & mean\\_bedrooms & mean\\_rooms & median\\_house\\_value\\\\\n",
       "\\hline\n",
       "\t19577 & 0        & 0        & 1        & 0        & 0        & -120.64  & 37.7     & 16       & 239      & 46       & 1.8958   & 1.108696 & 6.173913 & 137500  \\\\\n",
       "\\end{tabular}\n"
      ],
      "text/markdown": [
       "\n",
       "| <!--/--> | NEAR BAY | <1H OCEAN | INLAND | NEAR OCEAN | ISLAND | longitude | latitude | housing_median_age | population | households | median_income | mean_bedrooms | mean_rooms | median_house_value |\n",
       "|---|---|---|---|---|---|---|---|---|---|---|---|---|---|---|\n",
       "| 19577 | 0        | 0        | 1        | 0        | 0        | -120.64  | 37.7     | 16       | 239      | 46       | 1.8958   | 1.108696 | 6.173913 | 137500   |\n",
       "\n"
      ],
      "text/plain": [
       "      NEAR BAY <1H OCEAN INLAND NEAR OCEAN ISLAND longitude latitude\n",
       "19577 0        0         1      0          0      -120.64   37.7    \n",
       "      housing_median_age population households median_income mean_bedrooms\n",
       "19577 16                 239        46         1.8958        1.108696     \n",
       "      mean_rooms median_house_value\n",
       "19577 6.173913   137500            "
      ]
     },
     "metadata": {},
     "output_type": "display_data"
    }
   ],
   "source": [
    "housing_not_scaled[19577,] # dane nieprzeskalowane "
   ]
  },
  {
   "cell_type": "markdown",
   "id": "imperial-little",
   "metadata": {},
   "source": [
    "W dwóch powyższych przypadkach,  te same kategorie różnie wpływały na przewidzianą cenę\n",
    "\n",
    "\n",
    "miedain_income : <br>\n",
    "przypadek 1:  66.354 tyś USD <br>\n",
    "przypadek 2:  18.958 tyś USD <br>\n",
    "Niska mediana spowodowała obniżenie przewidywanej ceny. Zaś wysoka jej podwyższenie.\n",
    "W obu przypadkach mediana zarobków miała znaczny wpływ na przewidywanie \n",
    "\n",
    "\n",
    "Latitude: <br>\n",
    "przypadek 1:  37.45 <br>\n",
    "przypadek 2:  37.7 <br>\n",
    "Położenie bardziej na południe spowodowało dodanie wartości do przewidywanej, a północe jej obniżenie\n",
    "\n",
    "<1H OCEN <br>\n",
    "Co ciekawe obie nieruchomości  należą do tej samej kategorii <1H OCEN (ponad godzinę drogi do oceanu), ale raz wpłynęło to negatywie na wysokość przewidywania a raz pozytywnie \n"
   ]
  }
 ],
 "metadata": {
  "kernelspec": {
   "display_name": "R",
   "language": "R",
   "name": "ir"
  },
  "language_info": {
   "codemirror_mode": "r",
   "file_extension": ".r",
   "mimetype": "text/x-r-source",
   "name": "R",
   "pygments_lexer": "r",
   "version": "3.6.1"
  }
 },
 "nbformat": 4,
 "nbformat_minor": 5
}
