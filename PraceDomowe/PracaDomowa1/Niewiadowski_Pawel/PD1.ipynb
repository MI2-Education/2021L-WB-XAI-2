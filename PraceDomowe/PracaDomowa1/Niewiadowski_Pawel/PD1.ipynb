{
 "cells": [
  {
   "cell_type": "markdown",
   "metadata": {},
   "source": [
    "Praca domowa 1 (8 pkt.)\n",
    "Termin: 25.03.2021 (przed zajęciami)\n",
    "\n",
    "Dla wybranego modelu z projektu przygotuj knitr/jupyter notebook w formacie html lub pdf rozwiązując poniższe punkty.\n",
    "\n",
    "    Dla wybranej obserwacji ze zbioru danych wylicz predykcję modelu.\n",
    "    Dla wybranej obserwacji z punktu 1., wylicz dekompozycję predykcji modelu używając SHAP, Break Down lub obie (pakiety w R: DALEX, iml, pakiety w Python: shap, dalex, piBreakDown).\n",
    "    Wybierz dwie obserwacje ze zbioru danych, które mają inne najważniejsze zmienne (na przykład: dla obserwacji A ważne zmienne to wiek i płeć, a dla obserwacji B klasa i rasa).\n",
    "    Znajdź dwie obserwacje ze zbioru danych, które mają dla tych samych zmiennych inne efekty (pozytywny i negatywny).\n",
    "    Skomentuj poszczególne wyniki uzyskane w powyższych punktach.\n",
    "\n",
    "W pracy domowej oceniane przede wszystkim będą wnioski z otrzymanych analiz. Kod potrzebny do reprodukowalności wyników również proszę załączyć.\n",
    "\n",
    "Prace domowe należy zgłaszać przez Pull Request o tytule Nazwisko Imię PD1. Wszystkie pliki związane z pracą domową proszę o umieszczenie w folderze PraceDomowe/PracaDomowa1/Nazwisko_Imię."
   ]
  },
  {
   "cell_type": "code",
   "execution_count": 1,
   "metadata": {
    "collapsed": true
   },
   "outputs": [
    {
     "name": "stderr",
     "output_type": "stream",
     "text": [
      "Warning message:\n",
      "\"package 'OpenML' was built under R version 4.0.4\"\n",
      "Warning message:\n",
      "\"package 'mlr' was built under R version 4.0.4\"\n",
      "Loading required package: ParamHelpers\n",
      "\n",
      "Warning message:\n",
      "\"package 'ParamHelpers' was built under R version 4.0.4\"\n",
      "Warning message: 'mlr' is in 'maintenance-only' mode since July 2019.\n",
      "Future development will only happen in 'mlr3'\n",
      "(<https://mlr3.mlr-org.com>). Due to the focus on 'mlr3' there might be\n",
      "uncaught bugs meanwhile in {mlr} - please consider switching.\n",
      "\n",
      "Warning message:\n",
      "\"package 'pROC' was built under R version 4.0.4\"\n",
      "Type 'citation(\"pROC\")' for a citation.\n",
      "\n",
      "\n",
      "Attaching package: 'pROC'\n",
      "\n",
      "\n",
      "The following objects are masked from 'package:stats':\n",
      "\n",
      "    cov, smooth, var\n",
      "\n",
      "\n",
      "Warning message:\n",
      "\"package 'plyr' was built under R version 4.0.4\"\n"
     ]
    }
   ],
   "source": [
    "library(OpenML)\n",
    "library(mlr)\n",
    "library(pROC)\n",
    "library(plyr)\n",
    "\n",
    "set.seed(4)"
   ]
  },
  {
   "cell_type": "code",
   "execution_count": 2,
   "metadata": {
    "scrolled": true
   },
   "outputs": [
    {
     "name": "stderr",
     "output_type": "stream",
     "text": [
      "Downloading from 'http://www.openml.org/api/v1/data/37' to 'C:\\Users\\Speak\\AppData\\Local\\Temp\\RtmpwnUDt6\\cache\\datasets\\37\\description.xml'.\n",
      "\n",
      "Downloading from 'https://www.openml.org/data/v1/download/37/diabetes.arff' to 'C:\\Users\\Speak\\AppData\\Local\\Temp\\RtmpwnUDt6\\cache\\datasets\\37\\dataset.arff'\n",
      "\n",
      "Loading required package: readr\n",
      "\n"
     ]
    },
    {
     "data": {
      "text/html": [
       "<table>\n",
       "<caption>A data.frame: 6 × 9</caption>\n",
       "<thead>\n",
       "\t<tr><th></th><th scope=col>preg</th><th scope=col>plas</th><th scope=col>pres</th><th scope=col>skin</th><th scope=col>insu</th><th scope=col>mass</th><th scope=col>pedi</th><th scope=col>age</th><th scope=col>class</th></tr>\n",
       "\t<tr><th></th><th scope=col>&lt;dbl&gt;</th><th scope=col>&lt;dbl&gt;</th><th scope=col>&lt;dbl&gt;</th><th scope=col>&lt;dbl&gt;</th><th scope=col>&lt;dbl&gt;</th><th scope=col>&lt;dbl&gt;</th><th scope=col>&lt;dbl&gt;</th><th scope=col>&lt;dbl&gt;</th><th scope=col>&lt;fct&gt;</th></tr>\n",
       "</thead>\n",
       "<tbody>\n",
       "\t<tr><th scope=row>0</th><td>6</td><td>148</td><td>72</td><td>35</td><td>  0</td><td>33.6</td><td>0.627</td><td>50</td><td>1</td></tr>\n",
       "\t<tr><th scope=row>1</th><td>1</td><td> 85</td><td>66</td><td>29</td><td>  0</td><td>26.6</td><td>0.351</td><td>31</td><td>0</td></tr>\n",
       "\t<tr><th scope=row>2</th><td>8</td><td>183</td><td>64</td><td> 0</td><td>  0</td><td>23.3</td><td>0.672</td><td>32</td><td>1</td></tr>\n",
       "\t<tr><th scope=row>3</th><td>1</td><td> 89</td><td>66</td><td>23</td><td> 94</td><td>28.1</td><td>0.167</td><td>21</td><td>0</td></tr>\n",
       "\t<tr><th scope=row>4</th><td>0</td><td>137</td><td>40</td><td>35</td><td>168</td><td>43.1</td><td>2.288</td><td>33</td><td>1</td></tr>\n",
       "\t<tr><th scope=row>5</th><td>5</td><td>116</td><td>74</td><td> 0</td><td>  0</td><td>25.6</td><td>0.201</td><td>30</td><td>0</td></tr>\n",
       "</tbody>\n",
       "</table>\n"
      ],
      "text/latex": [
       "A data.frame: 6 × 9\n",
       "\\begin{tabular}{r|lllllllll}\n",
       "  & preg & plas & pres & skin & insu & mass & pedi & age & class\\\\\n",
       "  & <dbl> & <dbl> & <dbl> & <dbl> & <dbl> & <dbl> & <dbl> & <dbl> & <fct>\\\\\n",
       "\\hline\n",
       "\t0 & 6 & 148 & 72 & 35 &   0 & 33.6 & 0.627 & 50 & 1\\\\\n",
       "\t1 & 1 &  85 & 66 & 29 &   0 & 26.6 & 0.351 & 31 & 0\\\\\n",
       "\t2 & 8 & 183 & 64 &  0 &   0 & 23.3 & 0.672 & 32 & 1\\\\\n",
       "\t3 & 1 &  89 & 66 & 23 &  94 & 28.1 & 0.167 & 21 & 0\\\\\n",
       "\t4 & 0 & 137 & 40 & 35 & 168 & 43.1 & 2.288 & 33 & 1\\\\\n",
       "\t5 & 5 & 116 & 74 &  0 &   0 & 25.6 & 0.201 & 30 & 0\\\\\n",
       "\\end{tabular}\n"
      ],
      "text/markdown": [
       "\n",
       "A data.frame: 6 × 9\n",
       "\n",
       "| <!--/--> | preg &lt;dbl&gt; | plas &lt;dbl&gt; | pres &lt;dbl&gt; | skin &lt;dbl&gt; | insu &lt;dbl&gt; | mass &lt;dbl&gt; | pedi &lt;dbl&gt; | age &lt;dbl&gt; | class &lt;fct&gt; |\n",
       "|---|---|---|---|---|---|---|---|---|---|\n",
       "| 0 | 6 | 148 | 72 | 35 |   0 | 33.6 | 0.627 | 50 | 1 |\n",
       "| 1 | 1 |  85 | 66 | 29 |   0 | 26.6 | 0.351 | 31 | 0 |\n",
       "| 2 | 8 | 183 | 64 |  0 |   0 | 23.3 | 0.672 | 32 | 1 |\n",
       "| 3 | 1 |  89 | 66 | 23 |  94 | 28.1 | 0.167 | 21 | 0 |\n",
       "| 4 | 0 | 137 | 40 | 35 | 168 | 43.1 | 2.288 | 33 | 1 |\n",
       "| 5 | 5 | 116 | 74 |  0 |   0 | 25.6 | 0.201 | 30 | 0 |\n",
       "\n"
      ],
      "text/plain": [
       "  preg plas pres skin insu mass pedi  age class\n",
       "0 6    148  72   35     0  33.6 0.627 50  1    \n",
       "1 1     85  66   29     0  26.6 0.351 31  0    \n",
       "2 8    183  64    0     0  23.3 0.672 32  1    \n",
       "3 1     89  66   23    94  28.1 0.167 21  0    \n",
       "4 0    137  40   35   168  43.1 2.288 33  1    \n",
       "5 5    116  74    0     0  25.6 0.201 30  0    "
      ]
     },
     "metadata": {},
     "output_type": "display_data"
    }
   ],
   "source": [
    "def <- getOMLDataSet(data.id = 37)\n",
    "def <- def$data\n",
    "def$class <- mapvalues(def$class, \n",
    "          from=c(\"tested_positive\",\"tested_negative\"), \n",
    "          to=c(1,0))\n",
    "head(def)"
   ]
  },
  {
   "cell_type": "code",
   "execution_count": 3,
   "metadata": {},
   "outputs": [
    {
     "data": {
      "text/plain": [
       "      preg             plas            pres             skin      \n",
       " Min.   : 0.000   Min.   :  0.0   Min.   :  0.00   Min.   : 0.00  \n",
       " 1st Qu.: 1.000   1st Qu.: 99.0   1st Qu.: 62.00   1st Qu.: 0.00  \n",
       " Median : 3.000   Median :117.0   Median : 72.00   Median :23.00  \n",
       " Mean   : 3.845   Mean   :120.9   Mean   : 69.11   Mean   :20.54  \n",
       " 3rd Qu.: 6.000   3rd Qu.:140.2   3rd Qu.: 80.00   3rd Qu.:32.00  \n",
       " Max.   :17.000   Max.   :199.0   Max.   :122.00   Max.   :99.00  \n",
       "      insu            mass            pedi             age        class  \n",
       " Min.   :  0.0   Min.   : 0.00   Min.   :0.0780   Min.   :21.00   0:500  \n",
       " 1st Qu.:  0.0   1st Qu.:27.30   1st Qu.:0.2437   1st Qu.:24.00   1:268  \n",
       " Median : 30.5   Median :32.00   Median :0.3725   Median :29.00          \n",
       " Mean   : 79.8   Mean   :31.99   Mean   :0.4719   Mean   :33.24          \n",
       " 3rd Qu.:127.2   3rd Qu.:36.60   3rd Qu.:0.6262   3rd Qu.:41.00          \n",
       " Max.   :846.0   Max.   :67.10   Max.   :2.4200   Max.   :81.00          "
      ]
     },
     "metadata": {},
     "output_type": "display_data"
    }
   ],
   "source": [
    "summary(def)"
   ]
  },
  {
   "cell_type": "code",
   "execution_count": 4,
   "metadata": {},
   "outputs": [],
   "source": [
    "m <- sample(1:nrow(def), 0.7*nrow(def))\n",
    "train <- def[m,]\n",
    "test <- def[-m,]"
   ]
  },
  {
   "cell_type": "code",
   "execution_count": 5,
   "metadata": {},
   "outputs": [],
   "source": [
    "classif_task <- makeClassifTask(id = \"lvr\", data = train, target = \"class\")\n",
    "\n",
    "classif_lrn <- makeLearner(\"classif.ranger\", par.vals = list(num.trees = 131, mtry = 3), predict.type = \"prob\")"
   ]
  },
  {
   "cell_type": "code",
   "execution_count": 6,
   "metadata": {},
   "outputs": [],
   "source": [
    "model <- train(classif_lrn, classif_task)"
   ]
  },
  {
   "cell_type": "markdown",
   "metadata": {},
   "source": [
    "# Dla wybranej obserwacji ze zbioru danych wylicz predykcję modelu."
   ]
  },
  {
   "cell_type": "code",
   "execution_count": 7,
   "metadata": {},
   "outputs": [
    {
     "data": {
      "text/html": [
       "<table>\n",
       "<caption>A data.frame: 1 × 9</caption>\n",
       "<thead>\n",
       "\t<tr><th></th><th scope=col>preg</th><th scope=col>plas</th><th scope=col>pres</th><th scope=col>skin</th><th scope=col>insu</th><th scope=col>mass</th><th scope=col>pedi</th><th scope=col>age</th><th scope=col>class</th></tr>\n",
       "\t<tr><th></th><th scope=col>&lt;dbl&gt;</th><th scope=col>&lt;dbl&gt;</th><th scope=col>&lt;dbl&gt;</th><th scope=col>&lt;dbl&gt;</th><th scope=col>&lt;dbl&gt;</th><th scope=col>&lt;dbl&gt;</th><th scope=col>&lt;dbl&gt;</th><th scope=col>&lt;dbl&gt;</th><th scope=col>&lt;fct&gt;</th></tr>\n",
       "</thead>\n",
       "<tbody>\n",
       "\t<tr><th scope=row>553</th><td>1</td><td>88</td><td>62</td><td>24</td><td>44</td><td>29.9</td><td>0.422</td><td>23</td><td>0</td></tr>\n",
       "</tbody>\n",
       "</table>\n"
      ],
      "text/latex": [
       "A data.frame: 1 × 9\n",
       "\\begin{tabular}{r|lllllllll}\n",
       "  & preg & plas & pres & skin & insu & mass & pedi & age & class\\\\\n",
       "  & <dbl> & <dbl> & <dbl> & <dbl> & <dbl> & <dbl> & <dbl> & <dbl> & <fct>\\\\\n",
       "\\hline\n",
       "\t553 & 1 & 88 & 62 & 24 & 44 & 29.9 & 0.422 & 23 & 0\\\\\n",
       "\\end{tabular}\n"
      ],
      "text/markdown": [
       "\n",
       "A data.frame: 1 × 9\n",
       "\n",
       "| <!--/--> | preg &lt;dbl&gt; | plas &lt;dbl&gt; | pres &lt;dbl&gt; | skin &lt;dbl&gt; | insu &lt;dbl&gt; | mass &lt;dbl&gt; | pedi &lt;dbl&gt; | age &lt;dbl&gt; | class &lt;fct&gt; |\n",
       "|---|---|---|---|---|---|---|---|---|---|\n",
       "| 553 | 1 | 88 | 62 | 24 | 44 | 29.9 | 0.422 | 23 | 0 |\n",
       "\n"
      ],
      "text/plain": [
       "    preg plas pres skin insu mass pedi  age class\n",
       "553 1    88   62   24   44   29.9 0.422 23  0    "
      ]
     },
     "metadata": {},
     "output_type": "display_data"
    }
   ],
   "source": [
    "r <- test[sample(1:nrow(test), 1),]\n",
    "r"
   ]
  },
  {
   "cell_type": "code",
   "execution_count": 8,
   "metadata": {},
   "outputs": [
    {
     "data": {
      "text/html": [
       "0.98960983884648"
      ],
      "text/latex": [
       "0.98960983884648"
      ],
      "text/markdown": [
       "0.98960983884648"
      ],
      "text/plain": [
       "[1] 0.9896098"
      ]
     },
     "metadata": {},
     "output_type": "display_data"
    }
   ],
   "source": [
    "pred_r <- predict(model, newdata = r)$data$prob.0\n",
    "pred_r\n",
    "# Dobrze przewiduje model ten rekord"
   ]
  },
  {
   "cell_type": "markdown",
   "metadata": {},
   "source": [
    "# Dla wybranej obserwacji z punktu 1., wylicz dekompozycję predykcji modelu używając SHAP, Break Down lub obie"
   ]
  },
  {
   "cell_type": "code",
   "execution_count": 9,
   "metadata": {
    "collapsed": true
   },
   "outputs": [
    {
     "name": "stderr",
     "output_type": "stream",
     "text": [
      "Welcome to DALEX (version: 2.0.1).\n",
      "Find examples and detailed introduction at: https://pbiecek.github.io/ema/\n",
      "\n",
      "\n",
      "Warning message:\n",
      "\"package 'DALEXtra' was built under R version 4.0.4\"\n",
      "Anaconda not found on your computer. Conda related functionality such as create_env.R and condaenv and yml parameters from explain_scikitlearn will not be available\n",
      "\n"
     ]
    }
   ],
   "source": [
    "library(DALEX)\n",
    "library(DALEXtra)"
   ]
  },
  {
   "cell_type": "code",
   "execution_count": 10,
   "metadata": {},
   "outputs": [
    {
     "name": "stdout",
     "output_type": "stream",
     "text": [
      "Preparation of a new explainer is initiated\n",
      "  -> model label       :  WrappedModel  ( \u001b[33m default \u001b[39m )\n",
      "  -> data              :  768  rows  8  cols \n",
      "  -> target variable   :  768  values \n",
      "  -> predict function  :  yhat.WrappedModel  will be used ( \u001b[33m default \u001b[39m )\n",
      "  -> predicted values  :  numerical, min =  0 , mean =  0.3530395 , max =  0.9794953  \n",
      "  -> model_info        :  package mlr , ver. 2.19.0 , task classification ( \u001b[33m default \u001b[39m ) \n",
      "  -> residual function :  difference between y and yhat ( \u001b[33m default \u001b[39m )\n",
      "  -> residuals         :  numerical, min =  -0.8907064 , mean =  -0.004081178 , max =  0.943984  \n",
      " \u001b[32m A new explainer has been created! \u001b[39m \n"
     ]
    }
   ],
   "source": [
    "explainer <- explain(model = model,\n",
    "                     data = def[,-9],\n",
    "                     y = as.numeric(as.character(def$class)))"
   ]
  },
  {
   "cell_type": "code",
   "execution_count": 11,
   "metadata": {},
   "outputs": [
    {
     "data": {
      "image/png": "[encoded data removed]",
      "text/plain": [
       "plot without title"
      ]
     },
     "metadata": {
      "image/png": {
       "height": 420,
       "width": 420
      }
     },
     "output_type": "display_data"
    },
    {
     "data": {
      "image/png": "[encoded data removed]",
      "text/plain": [
       "plot without title"
      ]
     },
     "metadata": {
      "image/png": {
       "height": 420,
       "width": 420
      }
     },
     "output_type": "display_data"
    }
   ],
   "source": [
    "pp_ranger <- predict_parts(explainer, new_observation = r, type = \"break_down\")\n",
    "plot(pp_ranger)\n",
    "pp_ranger <- predict_parts(explainer, new_observation = r, type = \"shap\", B=10)\n",
    "plot(pp_ranger)\n",
    "\n",
    "# wartość zmiennej plas = 88 jak i wiek w okolicy 23 lat, znacząco zmniejszają szansę na to, że dany czlowiek ma cukrzyce"
   ]
  },
  {
   "cell_type": "markdown",
   "metadata": {},
   "source": [
    "# Znajdź dwie obserwacje ze zbioru danych, które mają dla tych samych zmiennych inne efekty"
   ]
  },
  {
   "cell_type": "code",
   "execution_count": 12,
   "metadata": {},
   "outputs": [
    {
     "data": {
      "image/png": "[encoded data removed]",
      "text/plain": [
       "plot without title"
      ]
     },
     "metadata": {
      "image/png": {
       "height": 420,
       "width": 420
      }
     },
     "output_type": "display_data"
    },
    {
     "data": {
      "image/png": "[encoded data removed]",
      "text/plain": [
       "plot without title"
      ]
     },
     "metadata": {
      "image/png": {
       "height": 420,
       "width": 420
      }
     },
     "output_type": "display_data"
    }
   ],
   "source": [
    "pp_ranger <- predict_parts(explainer, new_observation = test[1,], type = \"shap\", B=10)\n",
    "plot(pp_ranger)\n",
    "pp_ranger <- predict_parts(explainer, new_observation = test[2,], type = \"shap\", B=10)\n",
    "plot(pp_ranger)\n",
    "\n",
    "#mass, plas, pedi, insu, skin wpływają przeciwnie na prawdopodobieństwo wyniku testu w poniższych obserwacjach"
   ]
  },
  {
   "cell_type": "markdown",
   "metadata": {},
   "source": [
    "# Wybierz dwie obserwacje ze zbioru danych, które mają inne najważniejsze zmienne"
   ]
  },
  {
   "cell_type": "code",
   "execution_count": 13,
   "metadata": {},
   "outputs": [
    {
     "data": {
      "image/png": "[encoded data removed]",
      "text/plain": [
       "plot without title"
      ]
     },
     "metadata": {
      "image/png": {
       "height": 420,
       "width": 420
      }
     },
     "output_type": "display_data"
    },
    {
     "data": {
      "image/png": "[encoded data removed]",
      "text/plain": [
       "plot without title"
      ]
     },
     "metadata": {
      "image/png": {
       "height": 420,
       "width": 420
      }
     },
     "output_type": "display_data"
    }
   ],
   "source": [
    "pp_ranger <- predict_parts(explainer, new_observation = test[3,], type = \"shap\", B=10)\n",
    "plot(pp_ranger)\n",
    "pp_ranger <- predict_parts(explainer, new_observation = test[5,], type = \"shap\", B=10)\n",
    "plot(pp_ranger)\n",
    "\n",
    "#zmienne plas, mass i pedi mają znaczącą różnice wielkości wpływu na wynik w tych obserwacjach"
   ]
  },
  {
   "cell_type": "code",
   "execution_count": 14,
   "metadata": {},
   "outputs": [],
   "source": [
    "#Wpływ zmiennej na predykcję zależy nie tylko od jej wartości ale również od wartości innych zmiennych "
   ]
  }
 ],
 "metadata": {
  "kernelspec": {
   "display_name": "R",
   "language": "R",
   "name": "ir"
  },
  "language_info": {
   "codemirror_mode": "r",
   "file_extension": ".r",
   "mimetype": "text/x-r-source",
   "name": "R",
   "pygments_lexer": "r",
   "version": "4.0.3"
  }
 },
 "nbformat": 4,
 "nbformat_minor": 4
}
